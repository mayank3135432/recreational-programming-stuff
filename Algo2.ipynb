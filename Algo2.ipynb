{
 "cells": [
  {
   "cell_type": "code",
   "execution_count": 4,
   "id": "d09e2414-35db-47da-bc12-eda2c5880af2",
   "metadata": {},
   "outputs": [],
   "source": [
    "G=[[0,16,11,6],\n",
    "    [8,0,13,16],\n",
    "    [4,7,0,9],\n",
    "    [5,12,2,0]]"
   ]
  },
  {
   "cell_type": "code",
   "execution_count": 39,
   "id": "fd8228e6-6df6-4aad-a992-d94b8a66d0f9",
   "metadata": {},
   "outputs": [],
   "source": [
    "def goo(W,i,S):\n",
    "    if len(S)==0:\n",
    "        return(W[i][0])\n",
    "    else:\n",
    "        return min({W[i][j]+goo(W,j,S-{j}) for j in S})\n",
    "foo = lambda W,i,S,start_vertex : W[i][start_vertex] if len(S)==0 else min({W[i][j]+foo(W,j,S-{j},start_vertex) for j in S})"
   ]
  },
  {
   "cell_type": "code",
   "execution_count": 43,
   "id": "fbc96989-3abd-4bd8-9fbd-54906cbe5765",
   "metadata": {},
   "outputs": [
    {
     "data": {
      "text/plain": [
       "23"
      ]
     },
     "execution_count": 43,
     "metadata": {},
     "output_type": "execute_result"
    }
   ],
   "source": [
    "foo(G,0,{1,2,3},0)"
   ]
  },
  {
   "cell_type": "code",
   "execution_count": 25,
   "id": "2864baa8-c827-46d9-b56a-2036eb64312c",
   "metadata": {},
   "outputs": [],
   "source": [
    "def goo(W,i,S):\n",
    "    if S=={}:\n",
    "        return(W[i][0])\n",
    "    else:\n",
    "        myset={}\n",
    "        for j in S:\n",
    "            x = W[i][j]+goo(W,j,S-{j})\n",
    "            myset.add(x)\n",
    "        return min(myset)\n",
    "            "
   ]
  },
  {
   "cell_type": "code",
   "execution_count": 18,
   "id": "50cc4042-2369-4b8a-ae77-8ce0d3a67a6b",
   "metadata": {},
   "outputs": [
    {
     "data": {
      "text/plain": [
       "1"
      ]
     },
     "execution_count": 18,
     "metadata": {},
     "output_type": "execute_result"
    }
   ],
   "source": [
    "mylist = [3,1,2]\n",
    "min({x for x in mylist})"
   ]
  },
  {
   "cell_type": "code",
   "execution_count": 24,
   "id": "f73c6967-e8f6-4483-95d3-e2e040f67b77",
   "metadata": {},
   "outputs": [
    {
     "data": {
      "text/plain": [
       "{1, 2, 3, 7}"
      ]
     },
     "execution_count": 24,
     "metadata": {},
     "output_type": "execute_result"
    }
   ],
   "source": [
    "S.add(7)\n",
    "S\n"
   ]
  },
  {
   "cell_type": "code",
   "execution_count": 42,
   "id": "b2693f99-2159-4e74-8a64-f062e731445c",
   "metadata": {},
   "outputs": [
    {
     "data": {
      "text/plain": [
       "3"
      ]
     },
     "execution_count": 42,
     "metadata": {},
     "output_type": "execute_result"
    }
   ],
   "source": [
    "x = 3 if 1<2 else -3\n",
    "x"
   ]
  }
 ],
 "metadata": {
  "kernelspec": {
   "display_name": "Python 3 (ipykernel)",
   "language": "python",
   "name": "python3"
  },
  "language_info": {
   "codemirror_mode": {
    "name": "ipython",
    "version": 3
   },
   "file_extension": ".py",
   "mimetype": "text/x-python",
   "name": "python",
   "nbconvert_exporter": "python",
   "pygments_lexer": "ipython3",
   "version": "3.11.8"
  }
 },
 "nbformat": 4,
 "nbformat_minor": 5
}
