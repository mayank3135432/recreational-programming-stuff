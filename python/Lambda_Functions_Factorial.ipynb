{
 "cells": [
  {
   "cell_type": "code",
   "execution_count": 11,
   "id": "e30b3bc5-f7f0-427a-8f65-5467bf8a1992",
   "metadata": {},
   "outputs": [],
   "source": [
    "factgen = lambda f : lambda n : 1 if n==0 else n*f(n-1)\n",
    "Y = lambda f : ( lambda g : g(g) )( lambda g : f(lambda x: g(g)(x) ) )"
   ]
  },
  {
   "cell_type": "code",
   "execution_count": 12,
   "id": "b86fa59a-88b3-4425-ab6e-30d78b386b02",
   "metadata": {},
   "outputs": [],
   "source": [
    "fact = Y(factgen)"
   ]
  },
  {
   "cell_type": "code",
   "execution_count": 13,
   "id": "998f6b5f-226c-4c6e-a514-8c79efc1c0bb",
   "metadata": {},
   "outputs": [
    {
     "data": {
      "text/plain": [
       "120"
      ]
     },
     "execution_count": 13,
     "metadata": {},
     "output_type": "execute_result"
    }
   ],
   "source": [
    "facto(5)"
   ]
  },
  {
   "cell_type": "code",
   "execution_count": 14,
   "id": "254210cb-28b6-4fbc-9d47-d3b58260eda8",
   "metadata": {},
   "outputs": [
    {
     "data": {
      "text/plain": [
       "3628800"
      ]
     },
     "execution_count": 14,
     "metadata": {},
     "output_type": "execute_result"
    }
   ],
   "source": [
    "fact = (lambda f : ( lambda g : g(g) )( lambda g : f(lambda x: g(g)(x) ) ))(lambda f : lambda n : 1 if n==0 else n*f(n-1))\n",
    "fact(10)"
   ]
  },
  {
   "cell_type": "code",
   "execution_count": 15,
   "id": "34f1c781-cab5-4ded-ae6e-ad2de7dfc77a",
   "metadata": {},
   "outputs": [
    {
     "data": {
      "text/plain": [
       "function"
      ]
     },
     "execution_count": 15,
     "metadata": {},
     "output_type": "execute_result"
    }
   ],
   "source": [
    "type(fact)\n"
   ]
  }
 ],
 "metadata": {
  "kernelspec": {
   "display_name": "Python 3 (ipykernel)",
   "language": "python",
   "name": "python3"
  },
  "language_info": {
   "codemirror_mode": {
    "name": "ipython",
    "version": 3
   },
   "file_extension": ".py",
   "mimetype": "text/x-python",
   "name": "python",
   "nbconvert_exporter": "python",
   "pygments_lexer": "ipython3",
   "version": "3.11.7"
  }
 },
 "nbformat": 4,
 "nbformat_minor": 5
}
