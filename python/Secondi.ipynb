{
 "cells": [
  {
   "cell_type": "code",
   "execution_count": 10,
   "id": "3bca6453-e37e-45bb-9255-c9c3b901c51a",
   "metadata": {},
   "outputs": [],
   "source": [
    "def secondbig(A):\n",
    "    big = -float('inf')\n",
    "    sec = -float('inf')\n",
    "    for x in A:\n",
    "        if x>big:\n",
    "            big=x\n",
    "        if x>sec and x<big:\n",
    "            sec = x\n",
    "    return ((big,sec))"
   ]
  },
  {
   "cell_type": "code",
   "execution_count": 11,
   "id": "c1176dbb-b1a6-43c6-ad4a-5ad1023312a5",
   "metadata": {},
   "outputs": [
    {
     "data": {
      "text/plain": [
       "(7, 2)"
      ]
     },
     "execution_count": 11,
     "metadata": {},
     "output_type": "execute_result"
    }
   ],
   "source": [
    "secondbig([5,2,6,1,7])"
   ]
  }
 ],
 "metadata": {
  "kernelspec": {
   "display_name": "Python 3 (ipykernel)",
   "language": "python",
   "name": "python3"
  },
  "language_info": {
   "codemirror_mode": {
    "name": "ipython",
    "version": 3
   },
   "file_extension": ".py",
   "mimetype": "text/x-python",
   "name": "python",
   "nbconvert_exporter": "python",
   "pygments_lexer": "ipython3",
   "version": "3.12.3"
  }
 },
 "nbformat": 4,
 "nbformat_minor": 5
}
