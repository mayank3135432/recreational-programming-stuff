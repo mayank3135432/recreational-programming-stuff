{
 "cells": [
  {
   "cell_type": "code",
   "execution_count": 35,
   "id": "794c8013-05a2-4439-897a-f79fbef76ed9",
   "metadata": {},
   "outputs": [],
   "source": [
    "def longsub(A):\n",
    "    size=1\n",
    "    L=[]\n",
    "    for i in range(0,len(A)-1):\n",
    "        if A[i]<A[i+1]:\n",
    "            size=size+1\n",
    "        else:\n",
    "            L.append(size)\n",
    "            size=1\n",
    "    L.append(size)\n",
    "    return max(L)"
   ]
  },
  {
   "cell_type": "code",
   "execution_count": 37,
   "id": "5c21b297-bdfc-4237-994f-831735dd26e7",
   "metadata": {},
   "outputs": [
    {
     "data": {
      "text/plain": [
       "13"
      ]
     },
     "execution_count": 37,
     "metadata": {},
     "output_type": "execute_result"
    }
   ],
   "source": [
    "arr = [10,1,2,3,4,5,6,6,3,5,7,9,10,11,14,19,100,200,300,500,1000,2,3,4,7]\n",
    "longsub(arr)"
   ]
  },
  {
   "cell_type": "code",
   "execution_count": 39,
   "id": "facb1fb5-abc4-4624-83fd-0a9fd16110b2",
   "metadata": {},
   "outputs": [
    {
     "name": "stdout",
     "output_type": "stream",
     "text": [
      "2\n"
     ]
    }
   ],
   "source": [
    "def minRemove(arr, n):\n",
    "    LIS = [0 for i in range(n)]\n",
    "    len = 0\n",
    " \n",
    "    # Mark all elements of LIS as 1\n",
    "    for i in range(n):\n",
    "        LIS[i] = 1\n",
    " \n",
    "    # Find LIS of array\n",
    "    for i in range(1, n):\n",
    "         \n",
    "        for j in range(i):\n",
    "            if (arr[i] > arr[j] and (i-j)<=(arr[i]-arr[j]) ):\n",
    "                LIS[i] = max(LIS[i], LIS[j] + 1)\n",
    "                 \n",
    "        len = max(len, LIS[i])\n",
    " \n",
    "    # Return min changes for array\n",
    "    # to strictly increasing\n",
    "    return (n - len)\n",
    " \n",
    "# Driver Code\n",
    "arr = [ 1, 6, 4, 6, 4]\n",
    "n = len(arr)\n",
    "print(minRemove(arr, n))"
   ]
  },
  {
   "cell_type": "code",
   "execution_count": 41,
   "id": "eea3d96e-4e3f-48e9-98e9-f7c2c9015db7",
   "metadata": {},
   "outputs": [
    {
     "name": "stdout",
     "output_type": "stream",
     "text": [
      "Length of lis is 3\n"
     ]
    }
   ],
   "source": [
    "# A Naive Python recursive implementation\n",
    "# of LIS problem\n",
    "\n",
    "\n",
    "import sys\n",
    "\n",
    "# To make use of recursive calls, this\n",
    "# function must return two things:\n",
    "# 1) Length of LIS ending with element arr[n-1].\n",
    "#\t We use max_ending_here for this purpose\n",
    "# 2) Overall maximum as the LIS may end with\n",
    "#\t an element before arr[n-1] max_ref is\n",
    "#\t used this purpose.\n",
    "# The value of LIS of full array of size n\n",
    "# is stored in *max_ref which is our final result\n",
    "\n",
    "\n",
    "def f(idx, prev_idx, n, a, dp):\n",
    "\n",
    "\tif (idx == n):\n",
    "\t\treturn 0\n",
    "\n",
    "\tif (dp[idx][prev_idx + 1] != -1):\n",
    "\t\treturn dp[idx][prev_idx + 1]\n",
    "\n",
    "\tnotTake = 0 + f(idx + 1, prev_idx, n, a, dp)\n",
    "\ttake = -sys.maxsize - 1\n",
    "\tif (prev_idx == -1 or a[idx] > a[prev_idx]):\n",
    "\t\ttake = 1 + f(idx + 1, idx, n, a, dp)\n",
    "\n",
    "\tdp[idx][prev_idx + 1] = max(take, notTake)\n",
    "\treturn dp[idx][prev_idx + 1]\n",
    "\n",
    "# Function to find length of longest increasing\n",
    "# subsequence.\n",
    "\n",
    "\n",
    "def longestSubsequence(n, a):\n",
    "\n",
    "\tdp = [[-1 for i in range(n + 1)]for j in range(n + 1)]\n",
    "\treturn f(0, -1, n, a, dp)\n",
    "\n",
    "\n",
    "# Driver program to test above function\n",
    "if __name__ == '__main__':\n",
    "\ta = [ 1, 6, 4, 6, 4]\n",
    "\tn = len(a)\n",
    "\n",
    "\t# Function call\n",
    "\tprint(\"Length of lis is\", longestSubsequence(n, a))\n",
    "\n",
    "# This code is contributed by shinjanpatra\n"
   ]
  }
 ],
 "metadata": {
  "kernelspec": {
   "display_name": "Python 3 (ipykernel)",
   "language": "python",
   "name": "python3"
  },
  "language_info": {
   "codemirror_mode": {
    "name": "ipython",
    "version": 3
   },
   "file_extension": ".py",
   "mimetype": "text/x-python",
   "name": "python",
   "nbconvert_exporter": "python",
   "pygments_lexer": "ipython3",
   "version": "3.11.8"
  }
 },
 "nbformat": 4,
 "nbformat_minor": 5
}
