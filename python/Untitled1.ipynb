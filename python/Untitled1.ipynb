{
 "cells": [
  {
   "cell_type": "code",
   "execution_count": 1,
   "id": "9f745eaf-4611-4423-9bcc-c74f3428866f",
   "metadata": {},
   "outputs": [
    {
     "name": "stdin",
     "output_type": "stream",
     "text": [
      " 3\n",
      " 2\n"
     ]
    },
    {
     "name": "stdout",
     "output_type": "stream",
     "text": [
      "3 is bigger that 2\n"
     ]
    }
   ],
   "source": [
    "a = int(input())\n",
    "b = int(input())\n",
    "if a>b:\n",
    "    print(f\"{a} is bigger that {b}\")"
   ]
  },
  {
   "cell_type": "code",
   "execution_count": 2,
   "id": "ca12130f-c38c-409f-b292-50f65508c76c",
   "metadata": {},
   "outputs": [
    {
     "name": "stdout",
     "output_type": "stream",
     "text": [
      "77 is greater\n"
     ]
    }
   ],
   "source": [
    "a=33\n",
    "b=77\n",
    "if b>a:\n",
    "    print(f\"{b} is greater\")\n",
    "elif b==a:\n",
    "    print(\"both are same\")\n",
    "else:\n",
    "    print(f\"{a} is greater\")"
   ]
  },
  {
   "cell_type": "code",
   "execution_count": 5,
   "id": "a7558f0c-25e7-4fb2-bfd7-b81cb7327f79",
   "metadata": {},
   "outputs": [
    {
     "ename": "IndentationError",
     "evalue": "expected an indented block after 'if' statement on line 3 (3925879840.py, line 4)",
     "output_type": "error",
     "traceback": [
      "\u001b[0;36m  Cell \u001b[0;32mIn[5], line 4\u001b[0;36m\u001b[0m\n\u001b[0;31m    print(f\"{b} is greater\")\u001b[0m\n\u001b[0m    ^\u001b[0m\n\u001b[0;31mIndentationError\u001b[0m\u001b[0;31m:\u001b[0m expected an indented block after 'if' statement on line 3\n"
     ]
    }
   ],
   "source": [
    "a=33\n",
    "b=77\n",
    "if b>a:\n",
    "print(f\"{b} is greater\")"
   ]
  },
  {
   "cell_type": "code",
   "execution_count": 6,
   "id": "d40f2e79-c2e3-4a8e-8d5f-ef5d82201324",
   "metadata": {},
   "outputs": [
    {
     "name": "stdout",
     "output_type": "stream",
     "text": [
      "a\n"
     ]
    }
   ],
   "source": [
    "a=31\n",
    "b=12\n",
    "c=20\n",
    "if a>b:\n",
    "    if a>c:\n",
    "        print(\"a\")\n",
    "    else:\n",
    "        print(\"c\")\n",
    "else:\n",
    "    if b>c:\n",
    "        print(\"b\")\n",
    "    else:\n",
    "        print(\"c\")"
   ]
  }
 ],
 "metadata": {
  "kernelspec": {
   "display_name": "Python 3 (ipykernel)",
   "language": "python",
   "name": "python3"
  },
  "language_info": {
   "codemirror_mode": {
    "name": "ipython",
    "version": 3
   },
   "file_extension": ".py",
   "mimetype": "text/x-python",
   "name": "python",
   "nbconvert_exporter": "python",
   "pygments_lexer": "ipython3",
   "version": "3.11.6"
  }
 },
 "nbformat": 4,
 "nbformat_minor": 5
}
