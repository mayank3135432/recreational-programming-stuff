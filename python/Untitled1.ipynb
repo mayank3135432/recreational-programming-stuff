{
 "cells": [
  {
   "cell_type": "code",
   "execution_count": 13,
   "id": "390aab20-21ee-413f-a543-06e874e5e380",
   "metadata": {},
   "outputs": [],
   "source": [
    "# if prime\n",
    "from math import sqrt\n",
    "def ifprime(num):\n",
    "    for i in range(2,num//2):\n",
    "        if(num%i == 0):\n",
    "            return 0\n",
    "    return 1"
   ]
  },
  {
   "cell_type": "code",
   "execution_count": 15,
   "id": "db8ee301-6857-4e68-9430-c91a30d596c1",
   "metadata": {},
   "outputs": [
    {
     "data": {
      "text/plain": [
       "[1, 1, 1, 1, 0, 1, 0, 0, 0, 1, 0, 1, 0, 0, 0, 1]"
      ]
     },
     "execution_count": 15,
     "metadata": {},
     "output_type": "execute_result"
    }
   ],
   "source": [
    "list(map(ifprime, [2,3,4,5,6,7,8,9,10,11,12,13,14,15,16,17]))"
   ]
  },
  {
   "cell_type": "code",
   "execution_count": 12,
   "id": "9ea68f13-b02e-4454-9477-aa2e6984c90c",
   "metadata": {},
   "outputs": [
    {
     "data": {
      "text/plain": [
       "0"
      ]
     },
     "execution_count": 12,
     "metadata": {},
     "output_type": "execute_result"
    }
   ],
   "source": [
    "ifprime(17)"
   ]
  }
 ],
 "metadata": {
  "kernelspec": {
   "display_name": "Python 3 (ipykernel)",
   "language": "python",
   "name": "python3"
  },
  "language_info": {
   "codemirror_mode": {
    "name": "ipython",
    "version": 3
   },
   "file_extension": ".py",
   "mimetype": "text/x-python",
   "name": "python",
   "nbconvert_exporter": "python",
   "pygments_lexer": "ipython3",
   "version": "3.11.8"
  }
 },
 "nbformat": 4,
 "nbformat_minor": 5
}
