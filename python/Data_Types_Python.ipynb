{
 "cells": [
  {
   "cell_type": "code",
   "execution_count": 17,
   "id": "55e78dac-dd92-4875-8422-e14fa2ea00d3",
   "metadata": {
    "scrolled": true
   },
   "outputs": [
    {
     "name": "stdout",
     "output_type": "stream",
     "text": [
      "0.0242\n"
     ]
    }
   ],
   "source": [
    "# Variables have dynamic type\n",
    "# integer\n",
    "an_int = 99559766754456546378954782930567895042935647893045678905999999999999999999999999999999\n",
    "# int are dec by default\n",
    "bin_int = 0b101101 # 42\n",
    "oct_int = 0o36174 # 15484\n",
    "hex_int = 0x182AEB12 # 405465874\n",
    "\n",
    "# floating point value\n",
    "an_float = 342.12603\n",
    "# scientific notation\n",
    "sci_float = 1.73e3 #1730.0\n",
    "another_float = 24.2e-3 # 0.0242\n",
    "\n",
    "print(another_float)\n",
    "\n",
    "\n"
   ]
  },
  {
   "cell_type": "code",
   "execution_count": 19,
   "id": "736052ef-1d67-473e-b879-d5f66d248a0b",
   "metadata": {},
   "outputs": [
    {
     "name": "stdout",
     "output_type": "stream",
     "text": [
      "h\n",
      "e\n",
      "l\n",
      "l\n",
      "o\n",
      "h\n",
      "e\n",
      "l\n",
      "l\n",
      "o\n",
      "hello my name is qwerty\n"
     ]
    }
   ],
   "source": [
    "x = \"hello\"\n",
    "# range of indices: -5 to 4\n",
    "\n",
    "for i in range(-5,5):\n",
    "    print(x[i])\n",
    "# + operator on strings does concatenation\n",
    "print(x+\" my name\"+\" is\"+\" qwerty\")\n"
   ]
  },
  {
   "cell_type": "code",
   "execution_count": 2,
   "id": "5cf53612-b483-4d23-9d54-ccf569c71222",
   "metadata": {},
   "outputs": [
    {
     "name": "stdout",
     "output_type": "stream",
     "text": [
      "Hi 'I am qwerty' and i am asdfg\n",
      "Hi I am \"I am qwerty\" and i am asdfg\n",
      "4+31=35\n"
     ]
    },
    {
     "data": {
      "text/plain": [
       "'j'"
      ]
     },
     "execution_count": 2,
     "metadata": {},
     "output_type": "execute_result"
    }
   ],
   "source": [
    "print(\"Hi 'I am qwerty' and i am asdfg\")\n",
    "#print(\"Hi \"I am qwerty\" and i am asdfg\") ::This will give error\n",
    "\n",
    "# backslash used as escape sequence\n",
    "print(\"Hi I am \\\"I am qwerty\\\" and i am asdfg\")\n",
    "num1 = 4\n",
    "num2=31\n",
    "num3=1\n",
    "var2 = \"mjk\"\n",
    "print(f\"{num1}+{num2}={num1+num2}\")\n",
    "var2[1]"
   ]
  },
  {
   "cell_type": "code",
   "execution_count": 22,
   "id": "174ce494-5b3f-4c03-838a-8dd1ed31febf",
   "metadata": {},
   "outputs": [
    {
     "data": {
      "text/plain": [
       "6"
      ]
     },
     "execution_count": 22,
     "metadata": {},
     "output_type": "execute_result"
    }
   ],
   "source": [
    "def func1(x,y):\n",
    "    return x*y\n",
    "foo = lambda x : lambda y : x*y\n",
    "\n",
    "def func(x):\n",
    "    def gunc(y):\n",
    "        return x+y\n",
    "    return gunc\n",
    "\n",
    "foo(3)(2)"
   ]
  },
  {
   "cell_type": "code",
   "execution_count": 6,
   "id": "4b488f45-ab5a-4c78-ae58-0cb4c696e2e1",
   "metadata": {},
   "outputs": [
    {
     "name": "stdout",
     "output_type": "stream",
     "text": [
      "[63, 2461, 47802, 342, 1141, 6631]\n"
     ]
    },
    {
     "data": {
      "text/plain": [
       "4096"
      ]
     },
     "execution_count": 6,
     "metadata": {},
     "output_type": "execute_result"
    }
   ],
   "source": [
    "L=[0b111111, 0o4635, 0xBABA, 0b101010110, 0o2165, 0x19E7]\n",
    "print(L)\n",
    "16*256\n",
    "\n"
   ]
  },
  {
   "cell_type": "code",
   "execution_count": 29,
   "id": "27586344-5683-4d35-a02a-94b859c37c2b",
   "metadata": {},
   "outputs": [
    {
     "data": {
      "text/plain": [
       "builtin_function_or_method"
      ]
     },
     "execution_count": 29,
     "metadata": {},
     "output_type": "execute_result"
    }
   ],
   "source": [
    "type(print)"
   ]
  }
 ],
 "metadata": {
  "kernelspec": {
   "display_name": "Python 3 (ipykernel)",
   "language": "python",
   "name": "python3"
  },
  "language_info": {
   "codemirror_mode": {
    "name": "ipython",
    "version": 3
   },
   "file_extension": ".py",
   "mimetype": "text/x-python",
   "name": "python",
   "nbconvert_exporter": "python",
   "pygments_lexer": "ipython3",
   "version": "3.11.6"
  }
 },
 "nbformat": 4,
 "nbformat_minor": 5
}
