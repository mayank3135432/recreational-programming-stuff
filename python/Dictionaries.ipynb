{
 "cells": [
  {
   "cell_type": "code",
   "execution_count": 36,
   "id": "c44a0964",
   "metadata": {},
   "outputs": [
    {
     "name": "stdout",
     "output_type": "stream",
     "text": [
      "B.Tech\n",
      "20\n",
      "20\n",
      "<class 'dict'>\n",
      "<built-in method keys of dict object at 0x7e8f64558940>\n"
     ]
    }
   ],
   "source": [
    "person = {\"name\":\"mjk\",\"age\":20,\"qualifications\":\"B.Tech\"}\n",
    "print(person[\"qualifications\"])\n",
    "print(person[\"age\"])\n",
    "print(person.get(\"age\"))\n",
    "print(type(person))\n",
    "x=person.keys\n",
    "print(x)"
   ]
  },
  {
   "cell_type": "code",
   "execution_count": 37,
   "id": "ceb7d71e",
   "metadata": {
    "scrolled": false
   },
   "outputs": [],
   "source": [
    "list1=[\"name\",\"age\",\"qualifications\"]\n",
    "list2=[\"mjk\",20,\"B.Sc\"]\n",
    "#dict(list1,list2)"
   ]
  },
  {
   "cell_type": "code",
   "execution_count": 38,
   "id": "b51cd2ab",
   "metadata": {},
   "outputs": [
    {
     "name": "stdout",
     "output_type": "stream",
     "text": [
      "{'name': 'ln', 'age': 100, 'qualifications': 'PhD'}\n"
     ]
    }
   ],
   "source": [
    "person2 = dict(name=\"ln\",age=100,qualifications=\"PhD\")\n",
    "print(person2)"
   ]
  },
  {
   "cell_type": "code",
   "execution_count": 39,
   "id": "0f0ca6e1",
   "metadata": {},
   "outputs": [
    {
     "data": {
      "text/html": [
       "<div>\n",
       "<style scoped>\n",
       "    .dataframe tbody tr th:only-of-type {\n",
       "        vertical-align: middle;\n",
       "    }\n",
       "\n",
       "    .dataframe tbody tr th {\n",
       "        vertical-align: top;\n",
       "    }\n",
       "\n",
       "    .dataframe thead th {\n",
       "        text-align: right;\n",
       "    }\n",
       "</style>\n",
       "<table border=\"1\" class=\"dataframe\">\n",
       "  <thead>\n",
       "    <tr style=\"text-align: right;\">\n",
       "      <th></th>\n",
       "      <th>0</th>\n",
       "    </tr>\n",
       "  </thead>\n",
       "  <tbody>\n",
       "    <tr>\n",
       "      <th>name</th>\n",
       "      <td>mjk</td>\n",
       "    </tr>\n",
       "    <tr>\n",
       "      <th>age</th>\n",
       "      <td>20</td>\n",
       "    </tr>\n",
       "    <tr>\n",
       "      <th>qualifications</th>\n",
       "      <td>B.Tech</td>\n",
       "    </tr>\n",
       "  </tbody>\n",
       "</table>\n",
       "</div>"
      ],
      "text/plain": [
       "                     0\n",
       "name               mjk\n",
       "age                 20\n",
       "qualifications  B.Tech"
      ]
     },
     "execution_count": 39,
     "metadata": {},
     "output_type": "execute_result"
    }
   ],
   "source": [
    "import pandas as pd\n",
    "X=pd.Series(person)\n",
    "Y=pd.Series(person2)\n",
    "#print(X)\n",
    "D = pd.DataFrame(X)\n",
    "D"
   ]
  },
  {
   "cell_type": "code",
   "execution_count": 40,
   "id": "0204b74e",
   "metadata": {},
   "outputs": [
    {
     "name": "stdout",
     "output_type": "stream",
     "text": [
      "{'hello': 'greeting', 'cold': 'low temprature', 'hot': 'high temprature', 'vector': 'element of vector field'}\n",
      "low temprature\n",
      "high temprature\n",
      "5\n",
      "{'hello': 'greeting', 'cold': 'low temprature', 'hot': 'high temprature', 'vector': 'element of vector field', 'color': 'rng'}\n",
      "dict_keys(['hello', 'cold', 'hot', 'vector', 'color'])\n",
      "dict_items([('hello', 'greeting'), ('cold', 'low temprature'), ('hot', 'high temprature'), ('vector', 'element of vector field'), ('color', 'rng')])\n"
     ]
    }
   ],
   "source": [
    "# create a dictionary and apply the following methods\n",
    "# print dictionary\n",
    "# access items\n",
    "# use get()\n",
    "# change values\n",
    "# use len\n",
    "\n",
    "hello = {'hello':'greeting','cold':'low temprature','hot':'high temprature','vector':'element of vector field'}\n",
    "print(hello)\n",
    "print(hello['cold'])\n",
    "print(hello.get('hot'))\n",
    "hello.update({\"color\":\"rng\"})\n",
    "print(len(hello))\n",
    "print(hello)\n",
    "print(hello.keys())\n",
    "print(hello.items())"
   ]
  },
  {
   "cell_type": "code",
   "execution_count": null,
   "id": "addc85d0",
   "metadata": {},
   "outputs": [],
   "source": []
  },
  {
   "cell_type": "code",
   "execution_count": 41,
   "id": "c62b9c60",
   "metadata": {},
   "outputs": [
    {
     "name": "stdout",
     "output_type": "stream",
     "text": [
      "Help on method_descriptor:\n",
      "\n",
      "sort(self, /, *, key=None, reverse=False)\n",
      "    Sort the list in ascending order and return None.\n",
      "    \n",
      "    The sort is in-place (i.e. the list itself is modified) and stable (i.e. the\n",
      "    order of two equal elements is maintained).\n",
      "    \n",
      "    If a key function is given, apply it once to each list item and sort them,\n",
      "    ascending or descending, according to their function values.\n",
      "    \n",
      "    The reverse flag can be set to sort in descending order.\n",
      "\n"
     ]
    }
   ],
   "source": [
    "help(list.sort)"
   ]
  },
  {
   "cell_type": "code",
   "execution_count": 42,
   "id": "2a37e167",
   "metadata": {},
   "outputs": [
    {
     "name": "stdout",
     "output_type": "stream",
     "text": [
      "{'hello': 6, 'greet': 6, 'bye': 6, 'goodbye': 6}\n"
     ]
    }
   ],
   "source": [
    "# let A be tuple, let b be constant. Make dict using hmp method\n",
    "A = ('hello','greet','bye','goodbye')\n",
    "b = 6\n",
    "d1=dict.fromkeys(A,b)\n",
    "print(d1)"
   ]
  },
  {
   "cell_type": "code",
   "execution_count": 51,
   "id": "b74d64ec",
   "metadata": {},
   "outputs": [
    {
     "name": "stdout",
     "output_type": "stream",
     "text": [
      "{'chocolate_ice_cream': 90, 'vanilla_ice_cream': 50, 'red_velvet_cake': 140, 'pastry_premium': 1468, 'cupcake': 10, 'donut': 210, 'sweet_bun': 10, 'bread': 30, 'chicken_roll': 100, 'paneer_roll': 90}\n",
      "\n",
      "\n",
      "\n",
      "\n",
      "chocolate_ice_cream      90\n",
      "vanilla_ice_cream        50\n",
      "red_velvet_cake         140\n",
      "pastry_premium         1468\n",
      "cupcake                  10\n",
      "donut                   210\n",
      "sweet_bun                10\n",
      "bread                    30\n",
      "chicken_roll            100\n",
      "paneer_roll              90\n",
      "dtype: int64\n"
     ]
    }
   ],
   "source": [
    "menu = dict(chocolate_ice_cream=90,vanilla_ice_cream=50,red_velvet_cake=140,pastry_premium=1468,cupcake=10,donut=210,sweet_bun=10\n",
    "           ,bread=30,chicken_roll=100,paneer_roll=90)\n",
    "print(menu)\n",
    "print('\\n\\n\\n')\n",
    "print(pd.Series(menu))"
   ]
  },
  {
   "cell_type": "code",
   "execution_count": 52,
   "id": "ecf5197e",
   "metadata": {},
   "outputs": [
    {
     "name": "stdout",
     "output_type": "stream",
     "text": [
      "{'personal': {'name': ['A', 'B', 'C'], 'age': [100, 90, 105], 'qualifications': ['PhD', 'MSc', 'NONE']}, 'professional': {'name': ['A', 'B', 'C'], 'salary': [31, 21, 32], 'experience': [50, 25, 48]}}\n",
      "personal        {'name': ['A', 'B', 'C'], 'age': [100, 90, 105...\n",
      "professional    {'name': ['A', 'B', 'C'], 'salary': [31, 21, 3...\n",
      "dtype: object\n"
     ]
    }
   ],
   "source": [
    "A = dict(name=[\"A\",\"B\",\"C\"],age=[100,90,105],qualifications=[\"PhD\",\"MSc\",\"NONE\"])\n",
    "B = dict(name=[\"A\",\"B\",\"C\"],salary=[31,21,32],experience=[50,25,48])\n",
    "C = {\"personal\":A,\"professional\":B}\n",
    "print(C)"
   ]
  },
  {
   "cell_type": "code",
   "execution_count": null,
   "id": "45c3b633",
   "metadata": {},
   "outputs": [],
   "source": []
  }
 ],
 "metadata": {
  "kernelspec": {
   "display_name": "Python 3 (ipykernel)",
   "language": "python",
   "name": "python3"
  },
  "language_info": {
   "codemirror_mode": {
    "name": "ipython",
    "version": 3
   },
   "file_extension": ".py",
   "mimetype": "text/x-python",
   "name": "python",
   "nbconvert_exporter": "python",
   "pygments_lexer": "ipython3",
   "version": "3.11.5"
  }
 },
 "nbformat": 4,
 "nbformat_minor": 5
}
