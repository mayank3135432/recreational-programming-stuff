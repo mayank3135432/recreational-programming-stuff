{
 "cells": [
  {
   "cell_type": "markdown",
   "metadata": {
    "id": "MTaEBeU3u4ra"
   },
   "source": [
    "# <center> **ASSIGNMENT**-1 (ADS)"
   ]
  },
  {
   "cell_type": "markdown",
   "metadata": {
    "id": "E4KlASzLu4ri"
   },
   "source": [
    "#### Total questions: 17\n",
    "#### Total points:  100"
   ]
  },
  {
   "cell_type": "markdown",
   "metadata": {
    "id": "dys-hgk8_mc3"
   },
   "source": [
    "### **This assignment will test your Python Skills + Basics of Image Processing.**"
   ]
  },
  {
   "cell_type": "code",
   "execution_count": null,
   "metadata": {
    "id": "FgScTgfGu4rj"
   },
   "outputs": [],
   "source": [
    "# compulsory\n",
    "Your_Name = \" \"\n",
    "Your_Email = \" \""
   ]
  },
  {
   "cell_type": "markdown",
   "metadata": {
    "id": "gkpJnuhpMceR"
   },
   "source": [
    "## GUIDELINES:\n",
    "- The notebook should be well documented and structured!\n",
    "- All the images should be called here via urllib (whenever necessary).\n",
    "- Make sure that none of the code cell should run into any error.\n",
    "- If we click on ```Run all```, the notebook should run without any errors!\n",
    "\n",
    "\n",
    "**IF ANY OF THE ABOVE GUIDELINES ARE NOT FOLLOWED THEN YOUR ASSIGNMENT SHALL NOT BE GRADED**"
   ]
  },
  {
   "cell_type": "markdown",
   "metadata": {
    "id": "lgyPFRupyoCo"
   },
   "source": [
    "## Q1) (5 Points)\n",
    "\n",
    "#### Create a chess board using only numpy and display it using matplotlib.     \n",
    "\n",
    "####You are not allowed to Hard Code 0s and 1s.\n",
    "\n",
    "NOTE: The dimension of chess board is 64\\*64 (every block is 8\\*8)\n",
    "\n",
    "![download.png](data:image/png;base64,iVBORw0KGgoAAAANSUhEUgAAAOsAAADrCAYAAACICmHVAAAABHNCSVQICAgIfAhkiAAAAAlwSFlzAAALEgAACxIB0t1+/AAAADh0RVh0U29mdHdhcmUAbWF0cGxvdGxpYiB2ZXJzaW9uMy4yLjIsIGh0dHA6Ly9tYXRwbG90bGliLm9yZy+WH4yJAAAD8klEQVR4nO3dQW7jRhBA0XKQI3gf34G8/wnIQ2SfOyhrD6RgOIiY/MZ7S9MAuxYfLUCA6uPxeAzw//fbf30A4OeIFSLEChFihQixQoRYIeL3K//8+fn5+Pr6etNRvjvP85b3zMxs23bbu2bWnW3VuWbune3xeHw8+/vHle9Z931/HMfxrx3qn3x8PD3vW9z9XfOqs60618ztsz19mY/BECFWiBArRIgVIsQKEWKFCLFChFghQqwQIVaIECtEiBUixAoRYoUIsUKEWCFCrBAhVogQK0SIFSLEChFihQixQoRYIeLSL/Kf53nbjx2v+uPUM+vOtupcM/fNtu/7y2duVogQK0SIFSLEChFihQixQoRYIUKsECFWiBArRIgVIsQKEWKFCLFChFghQqwQIVaIECtEiBUixAoRYoUIsUKEWCFCrBAhVogQK0RcWp+xbdscx/Gus3yz6tqHmXVnW3WumfvXdTzjZoUIsUKEWCFCrBAhVogQK0SIFSLEChFihQixQoRYIUKsECFWiBArRIgVIsQKEWKFCLFChFghQqwQIVaIECtEiBUixAoRYoUIsUKEWCHi0q6b8zxv2/mx6o6WmXVnW3Wumftm2/f95TM3K0SIFSLEChFihQixQoRYIUKsECFWiBArRIgVIsQKEWKFCLFChFghQqwQIVaIECtEiBUixAoRYoUIsUKEWCFCrBAhVogQK0SIFSIurc/Ytm2O43jXWb5Zde3DzLqzrTrXzP3rOp5xs0KEWCFCrBAhVogQK0SIFSLEChFihQixQoRYIUKsECFWiBArRIgVIsQKEWKFCLFChFghQqwQIVaIECtEiBUixAoRYoUIsUKEWCHi0vqM8zxvWyOw6tqHmXVnW3Wumftm2/f95TM3K0SIFSLEChFihQixQoRYIUKsECFWiBArRIgVIsQKEWKFCLFChFghQqwQIVaIECtEiBUixAoRYoUIsUKEWCFCrBAhVogQK0SIFSIurc/Ytm2O43jXWb5Zde3DzLqzrTrXzP3rOp5xs0KEWCFCrBAhVogQK0SIFSLEChFihQixQoRYIUKsECFWiBArRIgVIsQKEWKFCLFChFghQqwQIVaIECtEiBUixAoRYoUIsUKEWCFCrBBxadfNeZ637fxYdUfLzLqzrTrXzH2z7fv+8pmbFSLEChFihQixQoRYIUKsECFWiBArRIgVIsQKEWKFCLFChFghQqwQIVaIECtEiBUixAoRYoUIsUKEWCFCrBAhVogQK0SIFSLEChGX1mfMzF8z8+c7DvKju9cj3GnV2Vada+bW2f54eYY795MAv87HYIgQK0SIFSLEChFihQixQoRYIUKsECFWiPgbtXKM4QlkyHMAAAAASUVORK5CYII=)"
   ]
  },
  {
   "cell_type": "code",
   "execution_count": null,
   "metadata": {
    "id": "g9YiiEdWyyQS"
   },
   "outputs": [],
   "source": [
    "# Generating the chess board\n",
    "'''Basic idea is to create bunch of arrays of zeros and ones to represent black and white part of the image.'''\n",
    "\n",
    "\n",
    "\n",
    "# Displaying the chess board\n",
    "'''Use imshow of pyplot to display the array of 0s and 1s'''\n",
    "\n",
    "\n"
   ]
  },
  {
   "cell_type": "markdown",
   "metadata": {
    "id": "xTUG3xVl7iuq"
   },
   "source": [
    "## Q2) (6 Points)\n",
    "\n",
    "#### Write at max 2 lines of code (excluding lines used for commenting) to,\n",
    "  - *Create a list of first ten positive integers*\n",
    "  - *Cube only the odd numbers from that list*\n",
    "  - *The output of the code should be:-*           \n",
    "```\n",
    "1^3 = 1\n",
    "3^3 = 27\n",
    "5^3 = 125\n",
    "7^3 = 343\n",
    "9^3 = 729\n",
    "```\n",
    "\n",
    "**Hint:-** *Use list comprehensions*"
   ]
  },
  {
   "cell_type": "code",
   "execution_count": null,
   "metadata": {
    "id": "3a1CAPSL7vpJ"
   },
   "outputs": [],
   "source": [
    "# Code here\n",
    "\n",
    "\n"
   ]
  },
  {
   "cell_type": "markdown",
   "metadata": {
    "id": "ENOKFB6L7yrb"
   },
   "source": [
    "## Q3) (5 Points)\n",
    "\n",
    "- *Define a list given below in your code:-*\n",
    "```\n",
    "[1, 2, [3, 4, 5, [6], 7, 8, 9], 10, 12]\n",
    "```\n",
    "\n",
    "- *Use `for loops` and `condition statements` in your code to alter the above list to produce:-*\n",
    "```\n",
    "[1, 2, [3, 4, 5, [6], 5, 4, 3], 2, 1]\n",
    "```\n",
    "- *The only output of the code should be:-*\n",
    "```\n",
    "Original List:- [1, 2, [3, 4, 5, [6], 7, 8, 9], 10, 12]\n",
    "Altered List:- [1, 2, [3, 4, 5, [6], 5, 4, 3], 2, 1]\n",
    "```\n",
    "- *Avoid hard coding!*\n",
    "- *Comment your code in a way that if this code is shared with Python newbiees, they can understand it*\n"
   ]
  },
  {
   "cell_type": "code",
   "execution_count": null,
   "metadata": {
    "id": "OFguBFvh8GWa"
   },
   "outputs": [],
   "source": [
    "# Code here\n",
    "\n",
    "\n"
   ]
  },
  {
   "cell_type": "markdown",
   "metadata": {
    "id": "AvaVx5oJ8K1G"
   },
   "source": [
    "## Q4) (5 Points)\n",
    "#### What will be the output of the following codes? Explain your logic behind it.\n",
    "\n",
    "\n"
   ]
  },
  {
   "cell_type": "markdown",
   "metadata": {
    "id": "fB_rSUg48VRL"
   },
   "source": [
    "**a)** [2 Points]\n",
    "```\n",
    "print(*(++i for i in range(10) if i%2))\n",
    "```\n"
   ]
  },
  {
   "cell_type": "code",
   "execution_count": null,
   "metadata": {
    "id": "ADgdXPQa8Ux_"
   },
   "outputs": [],
   "source": [
    "# a\n",
    "print(\" \")"
   ]
  },
  {
   "cell_type": "markdown",
   "metadata": {
    "id": "ciQgnQIN8YNn"
   },
   "source": [
    "**b)** [3 Points]\n",
    "\n",
    "```\n",
    "print(np.arange(1, 10).reshape(3,3).sum(axis = 0))\n",
    "```\n",
    "\n"
   ]
  },
  {
   "cell_type": "code",
   "execution_count": null,
   "metadata": {
    "id": "1Y-V05So8bKw"
   },
   "outputs": [],
   "source": [
    "# b\n",
    "print(\" \")"
   ]
  },
  {
   "cell_type": "markdown",
   "metadata": {
    "id": "Bk0AxBbR8pZ0"
   },
   "source": [
    "## Q5) (5 Points)\n",
    "\n",
    "#### Create a function named as \"case_sensitive_sorting\" that should:-\n",
    "- *Accept **only one word (string)** as an input.*\n",
    "- *Sort that word such that upper cases are sorted only where upper cases were present in the original word.*\n",
    "- *Similarly, smaller cases are sorted only where the smaller caseswere present in the original word.*\n",
    "- *Return that case sensitve sorted word*\n",
    "\n",
    "**Example:-**        \n",
    "**Input:** *TnuKi*      \n",
    "**Output:** *KinTu*"
   ]
  },
  {
   "cell_type": "code",
   "execution_count": null,
   "metadata": {
    "id": "BOJ9kSxO83rk"
   },
   "outputs": [],
   "source": [
    "# Create Function\n",
    "\n",
    "\n",
    "\n",
    "# Call the Function\n",
    "\n",
    "\n"
   ]
  },
  {
   "cell_type": "markdown",
   "metadata": {
    "id": "TNCMJf2A84XI"
   },
   "source": [
    "## Q6) [10 Points]\n",
    "\n",
    "#### Create a binomial expansion calculator such that if user inputs the values of a, b, n for (ax + b)^n       \n",
    "#### where n is a positive integer then your calculator should output its expansion.\n",
    "\n",
    "#### *For example :-*\n",
    "```\n",
    "Input:- (1 - x)^2\n",
    "Output:- x^2 - 2x + 1\n",
    "```\n",
    "#### **NOTE:-**       \n",
    "#### **1)** *You are not allowed to use any python libraries/modules for this question*      \n",
    "#### **2)** *Use Pascal's triangle to get the binomial coefficients of each term in the expansion*     \n",
    "#### **3)** *Using any formula for calculating binomial coefficients is strictly prohibited!*\n",
    "\n",
    "#### **Below is an image to give you an idea about how Pascal's triangle relates with Binomial expansion:-**\n",
    "<img src=\"https://drive.google.com/uc?id=1YnMgziwCHCLk2mc-msMdeLc99FevtIWr\" height = 300 width = 100%>"
   ]
  },
  {
   "cell_type": "code",
   "execution_count": null,
   "metadata": {
    "id": "jUdmvWfQ9M4Q"
   },
   "outputs": [],
   "source": [
    "# Create a function that would get you binomial coefficients for any (ax + b)^n\n",
    "\n",
    "\n",
    "\n",
    "# Build the calculator\n",
    "\n",
    "\n"
   ]
  },
  {
   "cell_type": "markdown",
   "metadata": {
    "id": "XUjqoI8c9Mo6"
   },
   "source": [
    "## Q7) (4 Points)\n",
    "\n",
    "#### In this question you need to code a greeting bot and this is how it is supposed to work:-       \n",
    "\n",
    "#### **1)** *It will ask user to enter their full name and email id*    \n",
    "#### **2)** *Once user enters these details it should throw a welcome message regarding fourth assignment using only the first name of user*   \n",
    "#### **3)** *Everytime the code is executed there should be a different welcome message which will be printed at random*\n",
    "\n",
    "#### **Example of random messages being displayed everytime the code is executed:-**  \n",
    "\n",
    "#### *Executing the code for first time ~*   \n",
    "```\n",
    "Hello Rohan! Welcome to your fourth assignment. Make sure to answer every questions!\n",
    "```  \n",
    "#### *Executing the code for second time ~*      \n",
    "```\n",
    "Welcome Rohan to your fourth assignment in ML4PA program at Spartificial. Be as creative as you can in coding problems!\n",
    "```\n",
    "#### *Executing the code for third time ~*     \n",
    "```\n",
    "Hello Rohan! Welcome to your fourth assignment. Make sure to answer every questions!\n",
    "```"
   ]
  },
  {
   "cell_type": "code",
   "execution_count": null,
   "metadata": {
    "id": "hrcUABhc9zOy"
   },
   "outputs": [],
   "source": [
    "# Create a greeting bot\n",
    "\n",
    "\n",
    "\n"
   ]
  },
  {
   "cell_type": "markdown",
   "metadata": {
    "id": "RVlu9JF6-Nr3"
   },
   "source": [
    "## Q8) (4 points)             \n",
    "\n",
    "**a)** ***Create the following 6x5 numpy array using just one line of code:***      \n",
    "[[32 34 36 38 40]        \n",
    " [42 44 46 48 50]        \n",
    " [52 54 56 58 60]             \n",
    " [62 64 66 68 70]                 \n",
    " [72 74 76 78 80]                 \n",
    " [82 84 86 88 90]]           \n",
    "\n",
    " **b)** ***Slice and print the array of numbers shown below (red box)***          \n",
    "[[44 46 48]         \n",
    " [54 56 58]         \n",
    " [64 66 68]            \n",
    " [74 76 78]]            \n",
    "\n",
    " **c)** ***Slice and print the array of numbers shown below (blue box)***        \n",
    "[32 44 56 68 80]             \n",
    "\n",
    "**d)** ***Slice and print the following array of numbers shown below (green boxes)***      \n",
    "[[32 34 36]          \n",
    " [52 54 56]        \n",
    " [72 74 76]]           \n",
    "\n",
    " **NOTE:-** *You are not suppose to use for loop or numpy methods.*  \n",
    "\n",
    "**Image:**          \n",
    "<img src = \"https://drive.google.com/uc?id=1iHwIWjWAT2nHuYatcYyl-tJFKubP4qDu\" width = 220, height = 220>"
   ]
  },
  {
   "cell_type": "code",
   "execution_count": null,
   "metadata": {
    "id": "QF6wzMGE-ZZw"
   },
   "outputs": [],
   "source": [
    "# a\n",
    "\n",
    "\n",
    "# b\n",
    "\n",
    "\n",
    "# c\n",
    "\n",
    "\n",
    "#d\n"
   ]
  },
  {
   "cell_type": "markdown",
   "metadata": {
    "id": "K8IRsjP69ynF"
   },
   "source": [
    "## Q9) [2 Points]\n",
    "\n",
    "#### ***Which of the following is a float type:-***      \n",
    "**A.** '3.0'         \n",
    "**B.** 3    \n",
    "**C.** print(3/2)       \n",
    "**D.** 3/2\n",
    "\n",
    "### **NOTE:-** *More than one option can be correct!*"
   ]
  },
  {
   "cell_type": "code",
   "execution_count": null,
   "metadata": {
    "id": "RiRYSAJA-BrG"
   },
   "outputs": [],
   "source": [
    "# Print all the correct options for Q9\n",
    "print(\"  \")"
   ]
  },
  {
   "cell_type": "markdown",
   "metadata": {
    "id": "ok86Z6aU-psc"
   },
   "source": [
    "## Q10) (4 Points)\n",
    "\n",
    "(a) ***Create a list of random non-repeatative integers of size/length specified by the user***       \n",
    "(b) ***Your task is to grab the pair of numbers in the list whose sum is a value specified by the user***\n",
    "\n",
    "*Here is one example to give you an idea:-*\n",
    "```\n",
    "Enter the length of non-repeatative list of random integers:- 7\n",
    "\n",
    "The list of 7 non-repeatative random integers:- [2, 6, 0, 7, 3, 8, 4]\n",
    "\n",
    "Enter the sum condition:- 10\n",
    "\n",
    "Pair of numbers in the above list whose sum is 10:-\n",
    "(3, 7), (8, 2), (4, 6)\n",
    "```"
   ]
  },
  {
   "cell_type": "code",
   "execution_count": null,
   "metadata": {
    "id": "dD9WrFSb_AN9"
   },
   "outputs": [],
   "source": [
    "# Code here\n",
    "\n",
    "\n",
    "\n",
    "\n"
   ]
  },
  {
   "cell_type": "markdown",
   "metadata": {
    "id": "H4GsJpp8u4rl"
   },
   "source": [
    "## Q11 (5 points)\n",
    "#### Complete and correct the below given function to generate a sin wave for 5 seconds duration"
   ]
  },
  {
   "cell_type": "code",
   "execution_count": null,
   "metadata": {
    "id": "lNL6VqGNu4rm"
   },
   "outputs": [],
   "source": [
    "import numpy as np\n",
    "from matplotlib import pyplot as plt\n",
    "\n",
    "SAMPLE_RATE = 44100  # Hertz\n",
    "DURATION = 5  # Seconds\n",
    "\n",
    "def generate_sine_wave(freq, sample_rate, duration)  # defining the function\n",
    "    x = np.linpace(0, duration, sample_rate * duration, endpoint=False)  # linespac to generate the sequence\n",
    "    frequencies = x * freq\n",
    "    # 2pi because np.sin takes radians\n",
    "    y = np.sin((2 * np.pi) * frequencies)\n",
    "    return x, y\n",
    "\n",
    "# Generate a 2 hertz sine wave that lasts for 5 seconds\n",
    "x, y = generate_sine_wave(2, SAMPLE_RATE, DURATION)\n",
    "plt.plot(x, y)\n",
    "plt.show()"
   ]
  },
  {
   "cell_type": "markdown",
   "metadata": {
    "id": "JH1Yzmhhu4rm"
   },
   "source": [
    "## Q12 (15 points)\n",
    "#### Apply gaussian filter to blur the image\n",
    "\n",
    "### Steps\n",
    "1. Get any image link from this dataset: https://www.kaggle.com/datasets/lincolnzh/martianlunar-crater-detection-dataset\n",
    "2. Import image using urllib.request (follow the documentation)\n",
    "3. Define a Gaussian filter using numpy from scratch (do not use any external libraries)\n",
    "4. Apply the created gaussian filter to blur the image using opencv-python\n",
    "5. Show the original and final output image using subplots in parallel\n",
    "\n",
    "**Note: Do not use predefined filters from any external library**"
   ]
  },
  {
   "cell_type": "code",
   "execution_count": null,
   "metadata": {
    "id": "qs73jGCEu4rn"
   },
   "outputs": [],
   "source": [
    "# import related libraries\n",
    "\n",
    "\n",
    "\n",
    "# import image with urllib.request\n",
    "\n",
    "\n",
    "# define the gaussian filter\n",
    "\n",
    "\n",
    "\n",
    "# apply gaussian filter on the image\n"
   ]
  },
  {
   "cell_type": "markdown",
   "metadata": {
    "id": "jylGst5Yu4ro"
   },
   "source": [
    "## Q13 (10 points)\n",
    " Import any four images from this dataset: https://www.kaggle.com/datasets/redwankarimsony/top-100-hubble-telescope-images and show them using matplotlib subplots function in (2,2) configuration. All other parameters can be chosen as per the suitability. Use kaggle API to import image and do not download and then import from local file system."
   ]
  },
  {
   "cell_type": "code",
   "execution_count": null,
   "metadata": {
    "id": "eP4DxCMVu4rp"
   },
   "outputs": [],
   "source": [
    "# write your code here\n"
   ]
  },
  {
   "cell_type": "markdown",
   "metadata": {
    "id": "-MSo0hCwu4rq"
   },
   "source": [
    "## Q14 (10 points)\n",
    "1. Explain (with examples for each) about the image filters used for vertical and horizontal edges detection.\n",
    "\n",
    "2. Elaborate a few points on the usability of such filters in Astronomical Image Data Processing.\n",
    "\n",
    "3. Implement the filters that you have described above."
   ]
  },
  {
   "cell_type": "markdown",
   "metadata": {
    "id": "7pJnnY0Z_jbm"
   },
   "source": [
    "Answer_1"
   ]
  },
  {
   "cell_type": "code",
   "execution_count": null,
   "metadata": {
    "id": "zB9Dq36VPHVR"
   },
   "outputs": [],
   "source": [
    "#Ans"
   ]
  },
  {
   "cell_type": "markdown",
   "metadata": {
    "id": "RbW_nTw0__uG"
   },
   "source": [
    "Answer 2"
   ]
  },
  {
   "cell_type": "code",
   "execution_count": null,
   "metadata": {
    "id": "B2LZybUdPJf4"
   },
   "outputs": [],
   "source": [
    "#Ans"
   ]
  },
  {
   "cell_type": "markdown",
   "metadata": {
    "id": "vm7kanRYu4rr"
   },
   "source": [
    "## Q15 (5 points)\n",
    "Given below is an example of \"fits\" data file format. Explain about each column - Name, Ver, Type, Cards, Dimensions and Format.\n",
    "\n",
    "\n",
    "```\n",
    "No.    Name      Ver    Type      Cards   Dimensions   Format\n",
    "  0  PRIMARY       1 PrimaryHDU     467   ()      \n",
    "  1  SCI           1 ImageHDU       215   (690, 690)   float32   \n",
    "  2  WHT           1 ImageHDU       215   (690, 690)   float32   \n",
    "  3  CTX           1 ImageHDU       215   (690, 690)   int32\n",
    "```"
   ]
  },
  {
   "cell_type": "code",
   "execution_count": null,
   "metadata": {
    "id": "4PlFl1g9PLwY"
   },
   "outputs": [],
   "source": [
    "#Ans"
   ]
  },
  {
   "cell_type": "markdown",
   "metadata": {
    "id": "G5ftPd3Hu4rs"
   },
   "source": [
    "## Q16 (3 points) Bonus\n",
    "\n",
    "Tell us about something fancy thing that you always wanted to buy, which is neither very costly nor very difficult to get, but you still could not get that!!"
   ]
  },
  {
   "cell_type": "code",
   "execution_count": null,
   "metadata": {
    "id": "49tlR3igu4rs"
   },
   "outputs": [],
   "source": [
    "# write your answer here\n",
    "\n",
    "answer = \" \""
   ]
  },
  {
   "cell_type": "markdown",
   "metadata": {
    "id": "L6C9Df5Mu4rs"
   },
   "source": [
    "## Q17 (2 points) Bonus\n",
    "Try asking a very intelligent question!"
   ]
  },
  {
   "cell_type": "code",
   "execution_count": null,
   "metadata": {
    "id": "w2DvgCrDu4ru"
   },
   "outputs": [],
   "source": [
    "# write your answer here\n",
    "\n",
    "answer = \"\""
   ]
  },
  {
   "cell_type": "markdown",
   "metadata": {
    "id": "qPDA45YCu4ru"
   },
   "source": [
    "## Thank you for attempting all the questions"
   ]
  }
 ],
 "metadata": {
  "colab": {
   "provenance": []
  },
  "kernelspec": {
   "display_name": "Python 3 (ipykernel)",
   "language": "python",
   "name": "python3"
  },
  "language_info": {
   "codemirror_mode": {
    "name": "ipython",
    "version": 3
   },
   "file_extension": ".py",
   "mimetype": "text/x-python",
   "name": "python",
   "nbconvert_exporter": "python",
   "pygments_lexer": "ipython3",
   "version": "3.11.7"
  },
  "vscode": {
   "interpreter": {
    "hash": "369f2c481f4da34e4445cda3fffd2e751bd1c4d706f27375911949ba6bb62e1c"
   }
  }
 },
 "nbformat": 4,
 "nbformat_minor": 4
}
