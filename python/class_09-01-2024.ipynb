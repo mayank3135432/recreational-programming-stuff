{
 "cells": [
  {
   "cell_type": "code",
   "execution_count": 1,
   "id": "9c62e97b-5683-417a-8e5b-d816633fc598",
   "metadata": {},
   "outputs": [
    {
     "name": "stdout",
     "output_type": "stream",
     "text": [
      "Hi to the World !\n"
     ]
    }
   ],
   "source": [
    "# this is the first program written in first class of DS202\n",
    "print(\"Hi to the World !\")"
   ]
  },
  {
   "cell_type": "code",
   "execution_count": 2,
   "id": "439a1f98-c136-428c-a436-66538e7c33da",
   "metadata": {},
   "outputs": [
    {
     "name": "stdout",
     "output_type": "stream",
     "text": [
      "8\n"
     ]
    }
   ],
   "source": [
    "arr=[1,3,2,5,-2,-1]\n",
    "sum = 0\n",
    "for i in arr:\n",
    "    sum = sum + i\n",
    "print(sum);"
   ]
  },
  {
   "cell_type": "code",
   "execution_count": 11,
   "id": "246fdabc-ae04-4b70-9108-2d2f5f2c03a4",
   "metadata": {},
   "outputs": [
    {
     "name": "stdout",
     "output_type": "stream",
     "text": [
      "5\n",
      "<class 'function'>\n"
     ]
    }
   ],
   "source": [
    "a=lambda x : x+1\n",
    "print(a(4))\n",
    "print(type(a))\n"
   ]
  },
  {
   "cell_type": "code",
   "execution_count": 16,
   "id": "7c4b199f-c8c0-468a-bb44-9e59a85cce79",
   "metadata": {},
   "outputs": [
    {
     "data": {
      "text/plain": [
       "function"
      ]
     },
     "execution_count": 16,
     "metadata": {},
     "output_type": "execute_result"
    }
   ],
   "source": [
    "foo = lambda x : lambda y : x+y\n",
    "type(foo(2))"
   ]
  }
 ],
 "metadata": {
  "kernelspec": {
   "display_name": "Python 3 (ipykernel)",
   "language": "python",
   "name": "python3"
  },
  "language_info": {
   "codemirror_mode": {
    "name": "ipython",
    "version": 3
   },
   "file_extension": ".py",
   "mimetype": "text/x-python",
   "name": "python",
   "nbconvert_exporter": "python",
   "pygments_lexer": "ipython3",
   "version": "3.11.8"
  }
 },
 "nbformat": 4,
 "nbformat_minor": 5
}
