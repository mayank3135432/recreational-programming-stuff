{
 "cells": [
  {
   "cell_type": "code",
   "execution_count": 1,
   "id": "0bfeb88d-512f-489a-afee-ecf53549dbcf",
   "metadata": {},
   "outputs": [],
   "source": [
    "# find number of occurences of given element\n",
    "# can also use builtin function list.count()\n",
    "def findnum(A,x):\n",
    "    count=0\n",
    "    for a in A:\n",
    "        if a==x:\n",
    "            count=count+1\n",
    "    return count"
   ]
  },
  {
   "cell_type": "code",
   "execution_count": 2,
   "id": "65536738-428b-4f47-bb40-8a00b9dc703b",
   "metadata": {},
   "outputs": [
    {
     "name": "stdout",
     "output_type": "stream",
     "text": [
      "3\n",
      "3\n"
     ]
    }
   ],
   "source": [
    "aX = [3,1,2,4,5,3,2,4,2,1,1,4]\n",
    "print(findnum(aX,1))\n",
    "print(aX.count(1))"
   ]
  },
  {
   "cell_type": "code",
   "execution_count": 3,
   "id": "d887e1fa-2a83-475d-a5bd-3c02eb98993e",
   "metadata": {},
   "outputs": [],
   "source": [
    "# find number of occurences of all elementts\n",
    "def findnumall(A):\n",
    "    mydict = {}\n",
    "    for a in A:\n",
    "        mydict[a]=0\n",
    "    for a in A:\n",
    "        mydict[a]=mydict[a]+1\n",
    "    return mydict\n",
    "    "
   ]
  },
  {
   "cell_type": "code",
   "execution_count": 4,
   "id": "0949616b-9986-4ff6-acae-d492b5cc4cf2",
   "metadata": {},
   "outputs": [
    {
     "data": {
      "text/plain": [
       "dict_values([2, 3, 3, 3, 1])"
      ]
     },
     "execution_count": 4,
     "metadata": {},
     "output_type": "execute_result"
    }
   ],
   "source": [
    "d1=findnumall(aX)\n",
    "d1.values()\n"
   ]
  },
  {
   "cell_type": "code",
   "execution_count": 5,
   "id": "a687d050-ecee-40d6-88e8-4758741e68c3",
   "metadata": {},
   "outputs": [
    {
     "data": {
      "text/plain": [
       "3"
      ]
     },
     "execution_count": 5,
     "metadata": {},
     "output_type": "execute_result"
    }
   ],
   "source": [
    "max(d1.values())"
   ]
  }
 ],
 "metadata": {
  "kernelspec": {
   "display_name": "Python 3 (ipykernel)",
   "language": "python",
   "name": "python3"
  },
  "language_info": {
   "codemirror_mode": {
    "name": "ipython",
    "version": 3
   },
   "file_extension": ".py",
   "mimetype": "text/x-python",
   "name": "python",
   "nbconvert_exporter": "python",
   "pygments_lexer": "ipython3",
   "version": "3.12.3"
  }
 },
 "nbformat": 4,
 "nbformat_minor": 5
}
