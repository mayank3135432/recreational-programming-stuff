{
 "cells": [
  {
   "cell_type": "code",
   "execution_count": 4,
   "id": "7ea66daa-c49d-4e00-886c-eaa9089ea8c9",
   "metadata": {},
   "outputs": [
    {
     "name": "stdout",
     "output_type": "stream",
     "text": [
      "\n",
      "*\n",
      "**\n",
      "***\n",
      "****\n",
      "*****\n",
      "******\n",
      "*******\n",
      "********\n",
      "*********\n",
      "**********\n",
      "***********\n",
      "************\n",
      "*************\n",
      "**************\n",
      "***************\n",
      "****************\n",
      "*****************\n",
      "******************\n",
      "*******************\n",
      "********************\n",
      "*********************\n",
      "**********************\n",
      "***********************\n",
      "************************\n",
      "*************************\n",
      "**************************\n",
      "***************************\n",
      "****************************\n",
      "*****************************\n",
      "******************************\n",
      "*******************************\n",
      "********************************\n",
      "*********************************\n",
      "**********************************\n",
      "***********************************\n",
      "************************************\n",
      "*************************************\n",
      "**************************************\n",
      "***************************************\n",
      "****************************************\n",
      "*****************************************\n",
      "******************************************\n",
      "*******************************************\n",
      "********************************************\n",
      "*********************************************\n",
      "**********************************************\n",
      "***********************************************\n",
      "************************************************\n",
      "*************************************************\n",
      "**************************************************\n",
      "that all\n"
     ]
    }
   ],
   "source": [
    "x=0\n",
    "while x<=50:\n",
    "    print(x*\"*\")\n",
    "    x=x+1\n",
    "else:\n",
    "    print(\"that all\")"
   ]
  },
  {
   "cell_type": "code",
   "execution_count": 9,
   "id": "c870fe77-2b48-44b1-b3ff-b8c67325c118",
   "metadata": {},
   "outputs": [
    {
     "ename": "KeyboardInterrupt",
     "evalue": "",
     "output_type": "error",
     "traceback": [
      "\u001b[0;31m---------------------------------------------------------------------------\u001b[0m",
      "\u001b[0;31mKeyboardInterrupt\u001b[0m                         Traceback (most recent call last)",
      "Cell \u001b[0;32mIn[9], line 3\u001b[0m\n\u001b[1;32m      1\u001b[0m L1\u001b[38;5;241m=\u001b[39m[\u001b[38;5;124m'\u001b[39m\u001b[38;5;124mapple\u001b[39m\u001b[38;5;124m'\u001b[39m,\u001b[38;5;124m'\u001b[39m\u001b[38;5;124mbanana\u001b[39m\u001b[38;5;124m'\u001b[39m,\u001b[38;5;124m'\u001b[39m\u001b[38;5;124mmango\u001b[39m\u001b[38;5;124m'\u001b[39m,\u001b[38;5;124m'\u001b[39m\u001b[38;5;124mstrawberry\u001b[39m\u001b[38;5;124m'\u001b[39m]\n\u001b[1;32m      2\u001b[0m i\u001b[38;5;241m=\u001b[39m\u001b[38;5;241m0\u001b[39m\n\u001b[0;32m----> 3\u001b[0m \u001b[38;5;28;01mwhile\u001b[39;00m L1:\n\u001b[1;32m      4\u001b[0m     \u001b[38;5;28;01mif\u001b[39;00m(L1\u001b[38;5;241m==\u001b[39m\u001b[38;5;124m'\u001b[39m\u001b[38;5;124morange\u001b[39m\u001b[38;5;124m'\u001b[39m):\n\u001b[1;32m      5\u001b[0m         \u001b[38;5;28mprint\u001b[39m(\u001b[38;5;124m'\u001b[39m\u001b[38;5;124morange is there\u001b[39m\u001b[38;5;124m'\u001b[39m)\n",
      "\u001b[0;31mKeyboardInterrupt\u001b[0m: "
     ]
    }
   ],
   "source": [
    "L1=['apple','banana','mango','strawberry']\n",
    "i=0\n",
    "while L1:\n",
    "    if(L1=='orange'):\n",
    "        print('orange is there')\n",
    "        break\n",
    "    i=i+1\n",
    "else:\n",
    "    print('orange is not there')"
   ]
  },
  {
   "cell_type": "code",
   "execution_count": null,
   "id": "ae9ac022-6a98-4ddc-836c-3d7936b4ca2d",
   "metadata": {},
   "outputs": [],
   "source": [
    "my_list = [\"apple\", \"banana\" \"mango\" \"strawberry\"]\n",
    "while  my_list:\n",
    "    if(my_list == \"orange\"):\n",
    "        print(\"orange is present \")\n",
    "        break\n",
    "    else:\n",
    "        print(\"orange is absent \")\n",
    "        break\n"
   ]
  },
  {
   "cell_type": "code",
   "execution_count": 11,
   "id": "c7ef2b6a-67c2-4025-80d4-af691f0af55d",
   "metadata": {},
   "outputs": [
    {
     "name": "stdout",
     "output_type": "stream",
     "text": [
      "rust is my fav lang\n"
     ]
    }
   ],
   "source": [
    "fav_lang=['assembly','python','C','haskell','rust','C#','java']\n",
    "for x in fav_lang:\n",
    "    if x == 'rust':\n",
    "        print('rust is my fav lang')\n",
    "        break\n",
    "else:\n",
    "    print('is not fav')"
   ]
  },
  {
   "cell_type": "code",
   "execution_count": null,
   "id": "d6a8a172-18c8-467b-a009-79d6f7e28d2c",
   "metadata": {},
   "outputs": [],
   "source": []
  }
 ],
 "metadata": {
  "kernelspec": {
   "display_name": "Python 3 (ipykernel)",
   "language": "python",
   "name": "python3"
  },
  "language_info": {
   "codemirror_mode": {
    "name": "ipython",
    "version": 3
   },
   "file_extension": ".py",
   "mimetype": "text/x-python",
   "name": "python",
   "nbconvert_exporter": "python",
   "pygments_lexer": "ipython3",
   "version": "3.11.6"
  }
 },
 "nbformat": 4,
 "nbformat_minor": 5
}
