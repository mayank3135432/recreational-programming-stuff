{
 "cells": [
  {
   "cell_type": "code",
   "execution_count": 26,
   "id": "3d842920-d895-483a-bdac-54e4648034bb",
   "metadata": {},
   "outputs": [
    {
     "name": "stdout",
     "output_type": "stream",
     "text": [
      "<class 'numpy.ndarray'>\n",
      "<class 'numpy.int64'>\n",
      "<class 'numpy.ndarray'>\n",
      "<class 'numpy.float64'>\n",
      "<class 'numpy.ndarray'>\n",
      "<class 'numpy.str_'>\n"
     ]
    }
   ],
   "source": [
    "from numpy import array\n",
    "arr1=array([1,2,3,4,5])\n",
    "print(type(arr1))\n",
    "print(type(arr1[0]))\n",
    "arr2=array([1,2,3,4,5.0])\n",
    "print(type(arr2))\n",
    "print(type(arr2[0]))\n",
    "arrch=array([1,2,3,4,'5'])\n",
    "print(type(arrch))\n",
    "print(type(arrch[0]))"
   ]
  },
  {
   "cell_type": "code",
   "execution_count": 19,
   "id": "2b16db59-891e-4d82-835b-ef53af341981",
   "metadata": {},
   "outputs": [
    {
     "name": "stdout",
     "output_type": "stream",
     "text": [
      "[1 2 3 4 5]\n"
     ]
    }
   ],
   "source": [
    "arr2=arr1.conjugate()\n",
    "print(arr2)"
   ]
  }
 ],
 "metadata": {
  "kernelspec": {
   "display_name": "Python 3 (ipykernel)",
   "language": "python",
   "name": "python3"
  },
  "language_info": {
   "codemirror_mode": {
    "name": "ipython",
    "version": 3
   },
   "file_extension": ".py",
   "mimetype": "text/x-python",
   "name": "python",
   "nbconvert_exporter": "python",
   "pygments_lexer": "ipython3",
   "version": "3.11.8"
  }
 },
 "nbformat": 4,
 "nbformat_minor": 5
}
