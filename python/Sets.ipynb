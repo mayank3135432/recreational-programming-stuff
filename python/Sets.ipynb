{
 "cells": [
  {
   "cell_type": "code",
   "execution_count": 15,
   "id": "b1569444",
   "metadata": {},
   "outputs": [
    {
     "name": "stdout",
     "output_type": "stream",
     "text": [
      "{'cake', 'limit', 'vactor', 'hohoho', 'hello'}\n",
      "{'cake', 'limit', 'vactor', 'hello', 'function'}\n",
      "{'cake', 'limit', 'vactor', 'hello', 'function'}\n"
     ]
    }
   ],
   "source": [
    "# create a set\n",
    "# set does not allow duplicate items. Just like a dictionary\n",
    "myset = {\"cake\",\"vactor\",\"limit\",\"hello\",\"hohoho\"}\n",
    "print(myset)\n",
    "yourset = set([\"hello\",\"limit\",\"apple\",\"asahi\"])\n",
    "myset.add(\"function\")\n",
    "myset.discard(\"hohoho\")\n",
    "print(myset)"
   ]
  },
  {
   "cell_type": "code",
   "execution_count": 21,
   "id": "2cf9b6da",
   "metadata": {},
   "outputs": [
    {
     "name": "stdout",
     "output_type": "stream",
     "text": [
      "{'cake', 'limit', 'vactor', 'hello', 'function'}\n",
      "{'cake', 'vactor', 'hohoho'}\n",
      "True\n"
     ]
    }
   ],
   "source": [
    "set1 = {\"cake\",\"vactor\",\"limit\",\"hello\",\"hohoho\"}\n",
    "print(myset)\n",
    "set2 = set([\"hello\",\"limit\",\"apple\",\"asahi\"])\n",
    "set3=set1.difference(set2) # set1 - set2\n",
    "print(set3)\n",
    "print(set3.issubset(set1))"
   ]
  },
  {
   "cell_type": "code",
   "execution_count": 25,
   "id": "48fbc682",
   "metadata": {},
   "outputs": [
    {
     "name": "stdout",
     "output_type": "stream",
     "text": [
      "{2, 5}\n",
      "{1, 3, 7}\n"
     ]
    }
   ],
   "source": [
    "A = {3,2,5}\n",
    "B = {7,1,3}\n",
    "A.isdisjoint(B)\n",
    "A.difference_update(B) # removes all elements of that are also in B\n",
    "print(A);print(B)"
   ]
  },
  {
   "cell_type": "code",
   "execution_count": 42,
   "id": "9f3e8581",
   "metadata": {},
   "outputs": [
    {
     "name": "stdout",
     "output_type": "stream",
     "text": [
      "Help on method_descriptor:\n",
      "\n",
      "symmetric_difference_update(...)\n",
      "    Update a set with the symmetric difference of itself and another.\n",
      "\n"
     ]
    }
   ],
   "source": [
    "help(set.symmetric_difference_update)"
   ]
  },
  {
   "cell_type": "code",
   "execution_count": 40,
   "id": "1e6a0b0b",
   "metadata": {},
   "outputs": [
    {
     "name": "stdout",
     "output_type": "stream",
     "text": [
      "{'cake', 'hohoho', 'apple', 'asahi', 'vactor'}\n",
      "cake\n",
      "hohoho\n",
      "apple\n",
      "asahi\n",
      "vactor\n"
     ]
    }
   ],
   "source": [
    "X = {\"cake\",\"vactor\",\"limit\",\"hello\",\"hohoho\"}\n",
    "Y = set([\"hello\",\"limit\",\"apple\",\"asahi\"])\n",
    "Z = X.symmetric_difference(Y) # return set of elements only in ony of X,Y\n",
    "print(Z)\n",
    "for x in Z:\n",
    "    print(x)"
   ]
  },
  {
   "cell_type": "code",
   "execution_count": null,
   "id": "5165b895",
   "metadata": {},
   "outputs": [],
   "source": []
  }
 ],
 "metadata": {
  "kernelspec": {
   "display_name": "Python 3 (ipykernel)",
   "language": "python",
   "name": "python3"
  },
  "language_info": {
   "codemirror_mode": {
    "name": "ipython",
    "version": 3
   },
   "file_extension": ".py",
   "mimetype": "text/x-python",
   "name": "python",
   "nbconvert_exporter": "python",
   "pygments_lexer": "ipython3",
   "version": "3.11.6"
  }
 },
 "nbformat": 4,
 "nbformat_minor": 5
}
