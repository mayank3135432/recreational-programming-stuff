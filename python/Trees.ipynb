{
 "cells": [
  {
   "cell_type": "code",
   "execution_count": 1,
   "id": "61166bea-5ff9-4695-b5b6-7b7071d0e264",
   "metadata": {},
   "outputs": [
    {
     "name": "stdout",
     "output_type": "stream",
     "text": [
      "10\n"
     ]
    }
   ],
   "source": [
    "class Node:\n",
    "    def __init__(self, data):\n",
    "        self.left=None\n",
    "        self.right=None\n",
    "        self.data=data\n",
    "    def PrintTree(self):\n",
    "        print(self.data)\n",
    "root = Node(10)\n",
    "root.PrintTree()"
   ]
  },
  {
   "cell_type": "code",
   "execution_count": null,
   "id": "044dd243-fb16-4343-b6b5-b067a75c4313",
   "metadata": {},
   "outputs": [],
   "source": []
  }
 ],
 "metadata": {
  "kernelspec": {
   "display_name": "Python 3 (ipykernel)",
   "language": "python",
   "name": "python3"
  },
  "language_info": {
   "codemirror_mode": {
    "name": "ipython",
    "version": 3
   },
   "file_extension": ".py",
   "mimetype": "text/x-python",
   "name": "python",
   "nbconvert_exporter": "python",
   "pygments_lexer": "ipython3",
   "version": "3.11.8"
  }
 },
 "nbformat": 4,
 "nbformat_minor": 5
}
