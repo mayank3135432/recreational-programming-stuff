{
 "cells": [
  {
   "cell_type": "code",
   "execution_count": 2,
   "id": "03c0b6e8-fa52-438f-b70b-9763a77acb80",
   "metadata": {},
   "outputs": [],
   "source": [
    "import functools"
   ]
  },
  {
   "cell_type": "code",
   "execution_count": 12,
   "id": "9f833177-7179-4e7d-b0fb-dd4962d8a1ea",
   "metadata": {},
   "outputs": [],
   "source": [
    "arr = [4,2,3,1,-5,3]"
   ]
  },
  {
   "cell_type": "code",
   "execution_count": 17,
   "id": "796f7871-cdb5-4320-9144-759086c570b0",
   "metadata": {},
   "outputs": [
    {
     "name": "stdout",
     "output_type": "stream",
     "text": [
      "[16, 4, 9, 1, 25, 9]\n"
     ]
    }
   ],
   "source": [
    "# map\n",
    "arr1 = list( map( lambda x:x*x, arr))\n",
    "print(arr1)"
   ]
  },
  {
   "cell_type": "code",
   "execution_count": 29,
   "id": "645fa567-e940-48b3-8ec1-cc99ba819c6e",
   "metadata": {},
   "outputs": [
    {
     "data": {
      "text/plain": [
       "8"
      ]
     },
     "execution_count": 29,
     "metadata": {},
     "output_type": "execute_result"
    }
   ],
   "source": [
    "# reduce\n",
    "functools.reduce( lambda a,b:a+b, arr)"
   ]
  },
  {
   "cell_type": "code",
   "execution_count": 16,
   "id": "d9046766-b144-413f-9a45-9de4f4548fa5",
   "metadata": {},
   "outputs": [
    {
     "name": "stdout",
     "output_type": "stream",
     "text": [
      "Help on built-in function reduce in module _functools:\n",
      "\n",
      "reduce(...)\n",
      "    reduce(function, iterable[, initial]) -> value\n",
      "    \n",
      "    Apply a function of two arguments cumulatively to the items of a sequence\n",
      "    or iterable, from left to right, so as to reduce the iterable to a single\n",
      "    value.  For example, reduce(lambda x, y: x+y, [1, 2, 3, 4, 5]) calculates\n",
      "    ((((1+2)+3)+4)+5).  If initial is present, it is placed before the items\n",
      "    of the iterable in the calculation, and serves as a default when the\n",
      "    iterable is empty.\n",
      "\n"
     ]
    }
   ],
   "source": [
    "help(functools.reduce)"
   ]
  },
  {
   "cell_type": "code",
   "execution_count": 24,
   "id": "8005be4d-4f83-4512-8b9e-4c6c490ea95f",
   "metadata": {},
   "outputs": [
    {
     "name": "stdout",
     "output_type": "stream",
     "text": [
      "[3, 1, -5, 3]\n"
     ]
    }
   ],
   "source": [
    "# filter\n",
    "oddarr = list( filter( lambda x : x&1, arr ) )\n",
    "print(oddarr)"
   ]
  }
 ],
 "metadata": {
  "kernelspec": {
   "display_name": "Python 3 (ipykernel)",
   "language": "python",
   "name": "python3"
  },
  "language_info": {
   "codemirror_mode": {
    "name": "ipython",
    "version": 3
   },
   "file_extension": ".py",
   "mimetype": "text/x-python",
   "name": "python",
   "nbconvert_exporter": "python",
   "pygments_lexer": "ipython3",
   "version": "3.11.8"
  }
 },
 "nbformat": 4,
 "nbformat_minor": 5
}
