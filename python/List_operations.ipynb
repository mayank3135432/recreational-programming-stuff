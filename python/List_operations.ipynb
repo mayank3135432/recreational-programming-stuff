{
 "cells": [
  {
   "cell_type": "code",
   "execution_count": 29,
   "id": "a72b13ec-2075-4071-9e12-29cf71de9250",
   "metadata": {},
   "outputs": [
    {
     "name": "stdout",
     "output_type": "stream",
     "text": [
      "['lotus', 'rose', 'marigold']\n",
      "['lotus', 'rose', 'marigold', 'jasmine', 'shoe flower', 'lily', 'rose']\n",
      "2\n",
      "1\n",
      "['lotus', 'rose', 'marigold', 'petunia', 'jasmine', 'shoe flower', 'lily', 'rose']\n",
      "['jasmine', 'lily', 'lotus', 'marigold', 'petunia', 'rose', 'shoe flower']\n",
      "['shoe flower', 'rose', 'petunia', 'marigold', 'lotus', 'lily', 'jasmine']\n"
     ]
    }
   ],
   "source": [
    "flowers = ['lotus','rose',\"marigold\"]\n",
    "print(flowers)\n",
    "name = 'jasmine'\n",
    "other = ['shoe flower','lily','rose']\n",
    "flowers.append(name)\n",
    "flowers = flowers + other\n",
    "\n",
    "x = flowers.copy()\n",
    "print(x)\n",
    "print(flowers.count('rose'))\n",
    "print(flowers.index('rose'))\n",
    "flowers.insert(3,'petunia')\n",
    "print(flowers)\n",
    "flowers.pop(1)\n",
    "flowers.sort()\n",
    "print(flowers)\n",
    "flowers.reverse()\n",
    "print(flowers)"
   ]
  },
  {
   "cell_type": "code",
   "execution_count": 7,
   "id": "5bc57842-0092-4098-84d9-1260c0dc6b8f",
   "metadata": {},
   "outputs": [
    {
     "data": {
      "text/plain": [
       "[3, 2, 1, 7, 5, 3]"
      ]
     },
     "execution_count": 7,
     "metadata": {},
     "output_type": "execute_result"
    }
   ],
   "source": [
    "arr = [3,2,1]\n",
    "brr = [7,5,3]\n",
    "arr+brr\n"
   ]
  },
  {
   "cell_type": "code",
   "execution_count": 16,
   "id": "eb0d7a56-d85d-4470-86fe-83f61fe443e1",
   "metadata": {},
   "outputs": [
    {
     "data": {
      "text/plain": [
       "array([4, 7, 6])"
      ]
     },
     "execution_count": 16,
     "metadata": {},
     "output_type": "execute_result"
    }
   ],
   "source": [
    "import numpy as np\n",
    "np.add([2,1,3],[2,6,3])\n"
   ]
  }
 ],
 "metadata": {
  "kernelspec": {
   "display_name": "Python 3 (ipykernel)",
   "language": "python",
   "name": "python3"
  },
  "language_info": {
   "codemirror_mode": {
    "name": "ipython",
    "version": 3
   },
   "file_extension": ".py",
   "mimetype": "text/x-python",
   "name": "python",
   "nbconvert_exporter": "python",
   "pygments_lexer": "ipython3",
   "version": "3.11.6"
  }
 },
 "nbformat": 4,
 "nbformat_minor": 5
}
