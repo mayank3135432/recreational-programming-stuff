{
 "cells": [
  {
   "cell_type": "code",
   "execution_count": 3,
   "id": "2673148f-9be0-4b45-a676-e950e084ca3f",
   "metadata": {},
   "outputs": [
    {
     "name": "stdout",
     "output_type": "stream",
     "text": [
      "5040\n"
     ]
    }
   ],
   "source": [
    "sample = \"asdfghj\"\n",
    "num=len(sample)\n",
    "\n",
    "P=1\n",
    "for i in range(1,num+1):\n",
    "   P=P*i\n",
    "\n",
    "print(P)\n"
   ]
  },
  {
   "cell_type": "code",
   "execution_count": 7,
   "id": "43c05b00-130e-4a12-8742-b31304fd096d",
   "metadata": {},
   "outputs": [
    {
     "data": {
      "text/plain": [
       "5040"
      ]
     },
     "execution_count": 7,
     "metadata": {},
     "output_type": "execute_result"
    }
   ],
   "source": [
    "import math\n",
    "math.factorial(7)"
   ]
  },
  {
   "cell_type": "code",
   "execution_count": null,
   "id": "5bec5125-0e9b-473a-903a-7ff88436b453",
   "metadata": {},
   "outputs": [],
   "source": [
    "f"
   ]
  }
 ],
 "metadata": {
  "kernelspec": {
   "display_name": "Python 3 (ipykernel)",
   "language": "python",
   "name": "python3"
  },
  "language_info": {
   "codemirror_mode": {
    "name": "ipython",
    "version": 3
   },
   "file_extension": ".py",
   "mimetype": "text/x-python",
   "name": "python",
   "nbconvert_exporter": "python",
   "pygments_lexer": "ipython3",
   "version": "3.11.8"
  }
 },
 "nbformat": 4,
 "nbformat_minor": 5
}
