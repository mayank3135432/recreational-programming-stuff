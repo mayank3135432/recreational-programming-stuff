{
 "cells": [
  {
   "cell_type": "code",
   "execution_count": 15,
   "id": "4ee6acb3",
   "metadata": {},
   "outputs": [
    {
     "name": "stdout",
     "output_type": "stream",
     "text": [
      "<class 'tuple'>\n"
     ]
    },
    {
     "data": {
      "text/plain": [
       "-2"
      ]
     },
     "execution_count": 15,
     "metadata": {},
     "output_type": "execute_result"
    }
   ],
   "source": [
    "mytuple = ('item1','item2')\n",
    "print(type(mytuple))\n",
    "A = (3,1,5,-2,7)\n",
    "A[3]\n",
    "# tuples are immutable\n",
    "# tuples allow duplicate elements, dictionaries do not.\n",
    "# tuple methods are count() and index()"
   ]
  },
  {
   "cell_type": "code",
   "execution_count": null,
   "id": "ece0898a",
   "metadata": {},
   "outputs": [],
   "source": []
  },
  {
   "cell_type": "code",
   "execution_count": null,
   "id": "b4082045",
   "metadata": {},
   "outputs": [],
   "source": [
    "#Creating tuple with only 1 item:\n",
    "onetuple = (\"item\",) # , after item is compulsory.\n",
    "# else interpreter thinks it is a string."
   ]
  },
  {
   "cell_type": "code",
   "execution_count": 14,
   "id": "7c8e29e5",
   "metadata": {},
   "outputs": [
    {
     "name": "stdout",
     "output_type": "stream",
     "text": [
      "(3, 2, 5, 1, 4, 6, 3, 1)\n"
     ]
    }
   ],
   "source": [
    "# create tuple using tuple constructor\n",
    "constuple = tuple([3,2,5,1,4,6,3,1,\"hello\"])\n",
    "print(constuple[:-1])"
   ]
  },
  {
   "cell_type": "code",
   "execution_count": 17,
   "id": "eb5140d3",
   "metadata": {},
   "outputs": [
    {
     "ename": "TypeError",
     "evalue": "'NoneType' object is not iterable",
     "output_type": "error",
     "traceback": [
      "\u001b[0;31m---------------------------------------------------------------------------\u001b[0m",
      "\u001b[0;31mTypeError\u001b[0m                                 Traceback (most recent call last)",
      "Cell \u001b[0;32mIn[17], line 2\u001b[0m\n\u001b[1;32m      1\u001b[0m Arr \u001b[38;5;241m=\u001b[39m (\u001b[38;5;124m\"\u001b[39m\u001b[38;5;124mhello\u001b[39m\u001b[38;5;124m\"\u001b[39m,\u001b[38;5;124m\"\u001b[39m\u001b[38;5;124mki\u001b[39m\u001b[38;5;124m\"\u001b[39m,\u001b[38;5;124m\"\u001b[39m\u001b[38;5;124mabc\u001b[39m\u001b[38;5;124m\"\u001b[39m)\n\u001b[0;32m----> 2\u001b[0m Brr\u001b[38;5;241m=\u001b[39m\u001b[38;5;28;43mtuple\u001b[39;49m\u001b[43m(\u001b[49m\u001b[38;5;28;43mlist\u001b[39;49m\u001b[43m(\u001b[49m\u001b[43mArr\u001b[49m\u001b[43m)\u001b[49m\u001b[38;5;241;43m.\u001b[39;49m\u001b[43msort\u001b[49m\u001b[43m(\u001b[49m\u001b[43m)\u001b[49m\u001b[43m)\u001b[49m\n",
      "\u001b[0;31mTypeError\u001b[0m: 'NoneType' object is not iterable"
     ]
    }
   ],
   "source": [
    "Arr = (\"hello\",\"ki\",\"abc\")\n",
    "\n",
    "\n"
   ]
  },
  {
   "cell_type": "code",
   "execution_count": 22,
   "id": "464b34c1",
   "metadata": {},
   "outputs": [
    {
     "name": "stdout",
     "output_type": "stream",
     "text": [
      "(3, -2, 1, 6, 23)\n",
      "(23, 20, 14, 31, 74)\n",
      "(1, 6, 23, 20, 14)\n"
     ]
    }
   ],
   "source": [
    "# create tuple of 10 integers. Try to print 1st five using +ve index, last five with -ve and middle five via slicingg\n",
    "K = (3,-2,1,6,23,20,14,31,74,100)\n",
    "print(K[0:5])\n",
    "print(K[-6:-1])\n",
    "print(K[int(len(K)/2-len(K)/4) : int(len(K)/2+len(K)/4)])\n"
   ]
  },
  {
   "cell_type": "code",
   "execution_count": 29,
   "id": "1c435556",
   "metadata": {},
   "outputs": [
    {
     "name": "stdout",
     "output_type": "stream",
     "text": [
      "10\n",
      "0\n",
      "True\n"
     ]
    }
   ],
   "source": [
    "Tp = tuple([1]*10)\n",
    "print(Tp.count(1))\n",
    "print(Tp.index(1))\n",
    "print(10>2)"
   ]
  },
  {
   "cell_type": "code",
   "execution_count": 31,
   "id": "27ca6173",
   "metadata": {},
   "outputs": [
    {
     "name": "stdout",
     "output_type": "stream",
     "text": [
      "hello world\n"
     ]
    }
   ],
   "source": [
    "str1 = \"     hello world \"\n",
    "print(str1.strip())"
   ]
  },
  {
   "cell_type": "raw",
   "id": "6f101567",
   "metadata": {},
   "source": []
  }
 ],
 "metadata": {
  "kernelspec": {
   "display_name": "Python 3 (ipykernel)",
   "language": "python",
   "name": "python3"
  },
  "language_info": {
   "codemirror_mode": {
    "name": "ipython",
    "version": 3
   },
   "file_extension": ".py",
   "mimetype": "text/x-python",
   "name": "python",
   "nbconvert_exporter": "python",
   "pygments_lexer": "ipython3",
   "version": "3.11.5"
  }
 },
 "nbformat": 4,
 "nbformat_minor": 5
}
