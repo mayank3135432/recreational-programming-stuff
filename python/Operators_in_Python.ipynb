{
 "cells": [
  {
   "cell_type": "code",
   "execution_count": 1,
   "id": "71af2f8d-b73f-4a9b-bc01-b062c4deb36e",
   "metadata": {},
   "outputs": [
    {
     "data": {
      "text/plain": [
       "5"
      ]
     },
     "execution_count": 1,
     "metadata": {},
     "output_type": "execute_result"
    }
   ],
   "source": [
    "3+2"
   ]
  },
  {
   "cell_type": "code",
   "execution_count": 2,
   "id": "3a5c7986-d771-4173-b695-8374f0be599a",
   "metadata": {},
   "outputs": [
    {
     "data": {
      "text/plain": [
       "-2"
      ]
     },
     "execution_count": 2,
     "metadata": {},
     "output_type": "execute_result"
    }
   ],
   "source": [
    "4-6"
   ]
  },
  {
   "cell_type": "code",
   "execution_count": 4,
   "id": "0ec4ee4a-6a79-45f7-a478-31caac769b49",
   "metadata": {},
   "outputs": [
    {
     "data": {
      "text/plain": [
       "65905.95730352799"
      ]
     },
     "execution_count": 4,
     "metadata": {},
     "output_type": "execute_result"
    }
   ],
   "source": [
    "3**10.1"
   ]
  },
  {
   "cell_type": "code",
   "execution_count": 8,
   "id": "92a10559-3c62-4b03-8a74-8b9a3819ef20",
   "metadata": {},
   "outputs": [
    {
     "data": {
      "text/plain": [
       "0.6"
      ]
     },
     "execution_count": 8,
     "metadata": {},
     "output_type": "execute_result"
    }
   ],
   "source": [
    "3/5"
   ]
  },
  {
   "cell_type": "code",
   "execution_count": 9,
   "id": "e8bf77d6-01a4-4fbe-8b9f-acf1da0eccd9",
   "metadata": {},
   "outputs": [
    {
     "data": {
      "text/plain": [
       "2"
      ]
     },
     "execution_count": 9,
     "metadata": {},
     "output_type": "execute_result"
    }
   ],
   "source": [
    "9//4 # integer division"
   ]
  },
  {
   "cell_type": "code",
   "execution_count": null,
   "id": "91568199-b034-4514-a8fe-7a439e99cf31",
   "metadata": {},
   "outputs": [],
   "source": []
  },
  {
   "cell_type": "code",
   "execution_count": 5,
   "id": "3472a71b-e474-4d76-93a0-ac2b0b41a82d",
   "metadata": {},
   "outputs": [
    {
     "data": {
      "text/plain": [
       "False"
      ]
     },
     "execution_count": 5,
     "metadata": {},
     "output_type": "execute_result"
    }
   ],
   "source": [
    "31==21"
   ]
  },
  {
   "cell_type": "code",
   "execution_count": 7,
   "id": "df8bcf62-689f-45b7-bffd-b9180e36704a",
   "metadata": {},
   "outputs": [
    {
     "data": {
      "text/plain": [
       "True"
      ]
     },
     "execution_count": 7,
     "metadata": {},
     "output_type": "execute_result"
    }
   ],
   "source": [
    "-3<4"
   ]
  },
  {
   "cell_type": "code",
   "execution_count": 16,
   "id": "dc1c4032-3649-47bc-b51e-44a11dd65a3b",
   "metadata": {},
   "outputs": [
    {
     "data": {
      "text/plain": [
       "1"
      ]
     },
     "execution_count": 16,
     "metadata": {},
     "output_type": "execute_result"
    }
   ],
   "source": [
    "#assignment operators\n",
    "a=21\n",
    "a+=4 # a=a+4\n",
    "a*=3 # a=a*3\n",
    "a//=10 # a=a//10\n",
    "a%=3\n",
    "a=5\n",
    "a&=3 # a=a&3 (BITWISE AND)\n",
    "a\n",
    "a=5\n",
    "a>>=2\n",
    "a"
   ]
  },
  {
   "cell_type": "code",
   "execution_count": null,
   "id": "4552d4c4-2877-40fe-925c-c5edd648fcd9",
   "metadata": {},
   "outputs": [],
   "source": []
  }
 ],
 "metadata": {
  "kernelspec": {
   "display_name": "Python 3 (ipykernel)",
   "language": "python",
   "name": "python3"
  },
  "language_info": {
   "codemirror_mode": {
    "name": "ipython",
    "version": 3
   },
   "file_extension": ".py",
   "mimetype": "text/x-python",
   "name": "python",
   "nbconvert_exporter": "python",
   "pygments_lexer": "ipython3",
   "version": "3.11.6"
  }
 },
 "nbformat": 4,
 "nbformat_minor": 5
}
