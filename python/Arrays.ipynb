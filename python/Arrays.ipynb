{
 "cells": [
  {
   "cell_type": "code",
   "execution_count": 1,
   "id": "0f3bfd92-9259-4084-a81f-2918b55b6043",
   "metadata": {},
   "outputs": [],
   "source": [
    "from array import * #  \n"
   ]
  },
  {
   "cell_type": "code",
   "execution_count": 2,
   "id": "d918d076-cfa6-4802-bf26-a7c2e7ff366c",
   "metadata": {},
   "outputs": [
    {
     "name": "stdout",
     "output_type": "stream",
     "text": [
      "array('i', [4, 2, 1, 4, 2, -4])\n"
     ]
    }
   ],
   "source": [
    "a = array( 'i',(4,2,1,4,2,-4) )\n",
    "print(a)"
   ]
  },
  {
   "cell_type": "code",
   "execution_count": 3,
   "id": "7b1fa592-8f51-44c4-857c-24d60b35bc24",
   "metadata": {},
   "outputs": [
    {
     "data": {
      "text/plain": [
       "-4"
      ]
     },
     "execution_count": 3,
     "metadata": {},
     "output_type": "execute_result"
    }
   ],
   "source": [
    "a[-1]"
   ]
  },
  {
   "cell_type": "code",
   "execution_count": 4,
   "id": "51925d54-5ca2-40ff-a27a-13c6f1a982be",
   "metadata": {},
   "outputs": [
    {
     "name": "stdout",
     "output_type": "stream",
     "text": [
      "array('i', [5, 3, 2, 2, 3, 2, 3, 2, 23, 2])\n",
      "array('i', [2, 3, 2, 3])\n"
     ]
    }
   ],
   "source": [
    "B = array('i',[5,3,2,2,3,2,3,2,23])\n",
    "B.append(2)\n",
    "print(B)\n",
    "print(B[3:-3])\n"
   ]
  },
  {
   "cell_type": "code",
   "execution_count": 5,
   "id": "a09da65a-fba5-45e3-9ce7-58cc0ad831c0",
   "metadata": {},
   "outputs": [
    {
     "name": "stdout",
     "output_type": "stream",
     "text": [
      "array('i', [1, 2, 3, 4, 5, 6, 7, 8, 9, 10, 11, 12, 13, 14, 15, 16, 17, 18, 19, 20])\n",
      "array('i', [1, 2, 3, 5, 6, 7, 8, 9, 10, 11, 12, 13, 14, 15, 16, 17, 18, 19, 20])\n",
      "array('i', [1, 2, 3, 5, 6, 100, 7, 8, 9, 10, 11, 12, 13, 14, 15, 16, 17, 18, 19, 20])\n",
      "array('i', [1, 2, 3, 5, 6, 100, 7, 8, 9, 10, 11, 12, 13, 14, 15, 16, 17, 18, 19, 20, 5, 3, 2, 2, 3, 2, 3, 2, 23, 2])\n",
      "array('i', [5, 3, 2, 2, 3, 2, 3, 2, 23, 2])\n",
      "array('i', [1, 2, 3, 5, 6, 100, 7, 8, 9, 10, 11, 12, 13, 14, 15, 16, 17, 18, 19, 20, 5, 3, 2, 2, 3, 2, 3, 2, 23, 2])\n",
      "array('i', [2, 3, 2, 23])\n",
      "2\n",
      "array('i', [2, 23, 2, 3, 2, 3, 2, 2, 3, 5, 20, 19, 18, 17, 16, 15, 14, 13, 12, 11, 10, 9, 8, 7, 100, 6, 5, 3, 2, 1])\n"
     ]
    }
   ],
   "source": [
    "A = array('i',range(1,21))\n",
    "print(A)\n",
    "A.remove(4)\n",
    "print(A)\n",
    "A.insert(5,100)\n",
    "print(A)\n",
    "C = A\n",
    "A.extend(B)\n",
    "print(A)\n",
    "print(B)\n",
    "print(C)\n",
    "print(B[-5:-1])\n",
    "print(A.count(5))\n",
    "A.reverse()\n",
    "print(A)"
   ]
  },
  {
   "cell_type": "code",
   "execution_count": 6,
   "id": "86b67b4e-a83e-40d8-a320-f76a9013fa98",
   "metadata": {},
   "outputs": [
    {
     "name": "stdout",
     "output_type": "stream",
     "text": [
      "array('f', [2.0999999046325684, 3.0, -0.5, 0.20000000298023224, 0.550000011920929, -2.4000000953674316, -9.5, 11.0])\n"
     ]
    }
   ],
   "source": [
    "CH = array('f',(2.1,3,-0.5,0.2,0.55,-2.4,-9.5,11))\n",
    "print(CH)"
   ]
  },
  {
   "cell_type": "code",
   "execution_count": 7,
   "id": "255ecb05-9c0e-45be-a30f-8fa682e0b822",
   "metadata": {},
   "outputs": [
    {
     "name": "stdout",
     "output_type": "stream",
     "text": [
      "array('d', [4.0, 2.1, 1.0, 4.0, 2.0, -4.321245678909876])\n"
     ]
    },
    {
     "data": {
      "text/plain": [
       "float"
      ]
     },
     "execution_count": 7,
     "metadata": {},
     "output_type": "execute_result"
    }
   ],
   "source": [
    "floatarr = array( 'd',(4,2.1,1,4,2,-4.321245678909876) )\n",
    "\n",
    "print(floatarr)\n",
    "type(floatarr)\n",
    "type(floatarr[0])"
   ]
  },
  {
   "cell_type": "code",
   "execution_count": 8,
   "id": "89905b9e-3145-4aa7-9bbc-8a143793afc6",
   "metadata": {},
   "outputs": [
    {
     "name": "stdout",
     "output_type": "stream",
     "text": [
      "array('u', 'q,\\'\"q!#@%^~`\\\\')\n",
      "<class 'array.array'>\n",
      "<class 'str'>\n",
      "q\n",
      ",\n",
      "'\n",
      "\"\n",
      "q\n",
      "!\n",
      "#\n",
      "@\n",
      "%\n",
      "^\n",
      "~\n",
      "`\n",
      "\\\n"
     ]
    }
   ],
   "source": [
    "uarray = array( 'u',('q',',','\\'','\\\"','q','!','#','@','%','^','~','`','\\\\') ) # unicode\n",
    "print(uarray)\n",
    "print(type(uarray))\n",
    "print(type(uarray[0]))\n",
    "for x in uarray:\n",
    "    print(x)"
   ]
  },
  {
   "cell_type": "code",
   "execution_count": 9,
   "id": "e5e010f7-451d-40c9-a9f1-185445e58eb6",
   "metadata": {},
   "outputs": [
    {
     "data": {
      "text/plain": [
       "[[[[[[[[[[1]]]]]]]]], [2, 4, 1]]"
      ]
     },
     "execution_count": 9,
     "metadata": {},
     "output_type": "execute_result"
    }
   ],
   "source": [
    "arr1 = [[[[[[[1,[[[1]]]]]]]]],[2,4,1]]\n",
    "arr1[0][0][0][0][0][0][0][0][0]"
   ]
  },
  {
   "cell_type": "code",
   "execution_count": 11,
   "id": "cf15f23b-dedf-4c59-b648-9f8dff2f6822",
   "metadata": {},
   "outputs": [
    {
     "data": {
      "text/plain": [
       "[[1], [[1], [[1], [[1], [[1], [[1], [[1], [[1], [[1], [1]]]]]]]]]]"
      ]
     },
     "execution_count": 11,
     "metadata": {},
     "output_type": "execute_result"
    }
   ],
   "source": [
    "def foo(x,num):\n",
    "    if num==1:\n",
    "        return x\n",
    "    else:\n",
    "        return [x,foo(x,num-1)]\n",
    "\n",
    "foo([1],10)"
   ]
  },
  {
   "cell_type": "code",
   "execution_count": 15,
   "id": "3818bedd-1dfa-4c5a-933b-0cce18e445d8",
   "metadata": {},
   "outputs": [
    {
     "ename": "TypeError",
     "evalue": "circle.area() takes 0 positional arguments but 1 was given",
     "output_type": "error",
     "traceback": [
      "\u001b[0;31m---------------------------------------------------------------------------\u001b[0m",
      "\u001b[0;31mTypeError\u001b[0m                                 Traceback (most recent call last)",
      "Cell \u001b[0;32mIn[15], line 7\u001b[0m\n\u001b[1;32m      4\u001b[0m         \u001b[38;5;28mprint\u001b[39m(\u001b[38;5;241m3.14159\u001b[39m\u001b[38;5;241m*\u001b[39m\u001b[38;5;28mself\u001b[39m\u001b[38;5;241m.\u001b[39mradius\u001b[38;5;241m*\u001b[39m\u001b[38;5;241m*\u001b[39m\u001b[38;5;241m2\u001b[39m)\n\u001b[1;32m      6\u001b[0m Q \u001b[38;5;241m=\u001b[39m circle()\n\u001b[0;32m----> 7\u001b[0m \u001b[43mQ\u001b[49m\u001b[38;5;241;43m.\u001b[39;49m\u001b[43marea\u001b[49m\u001b[43m(\u001b[49m\u001b[43m)\u001b[49m\n",
      "\u001b[0;31mTypeError\u001b[0m: circle.area() takes 0 positional arguments but 1 was given"
     ]
    }
   ],
   "source": [
    "class circle:\n",
    "    radius=0\n",
    "    def area():\n",
    "        print(3.14159*self.radius**2)\n",
    "\n",
    "Q = circle()\n",
    "Q.area()"
   ]
  }
 ],
 "metadata": {
  "kernelspec": {
   "display_name": "Python 3 (ipykernel)",
   "language": "python",
   "name": "python3"
  },
  "language_info": {
   "codemirror_mode": {
    "name": "ipython",
    "version": 3
   },
   "file_extension": ".py",
   "mimetype": "text/x-python",
   "name": "python",
   "nbconvert_exporter": "python",
   "pygments_lexer": "ipython3",
   "version": "3.12.3"
  }
 },
 "nbformat": 4,
 "nbformat_minor": 5
}
