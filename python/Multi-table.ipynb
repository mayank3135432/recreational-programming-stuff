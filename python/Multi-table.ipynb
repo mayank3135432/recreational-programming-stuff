{
 "cells": [
  {
   "cell_type": "code",
   "execution_count": 7,
   "id": "eda0a2e3-052c-4e67-b1df-0897c21ff7f6",
   "metadata": {},
   "outputs": [
    {
     "name": "stdout",
     "output_type": "stream",
     "text": [
      "\n",
      "\n",
      "1's table\n",
      "1*1=1\n",
      "1*2=2\n",
      "1*3=3\n",
      "1*4=4\n",
      "1*5=5\n",
      "1*6=6\n",
      "1*7=7\n",
      "1*8=8\n",
      "1*9=9\n",
      "1*10=10\n",
      "\n",
      "\n",
      "2's table\n",
      "2*1=2\n",
      "2*2=4\n",
      "2*3=6\n",
      "2*4=8\n",
      "2*5=10\n",
      "2*6=12\n",
      "2*7=14\n",
      "2*8=16\n",
      "2*9=18\n",
      "2*10=20\n",
      "\n",
      "\n",
      "3's table\n",
      "3*1=3\n",
      "3*2=6\n",
      "3*3=9\n",
      "3*4=12\n",
      "3*5=15\n",
      "3*6=18\n",
      "3*7=21\n",
      "3*8=24\n",
      "3*9=27\n",
      "3*10=30\n",
      "\n",
      "\n",
      "4's table\n",
      "4*1=4\n",
      "4*2=8\n",
      "4*3=12\n",
      "4*4=16\n",
      "4*5=20\n",
      "4*6=24\n",
      "4*7=28\n",
      "4*8=32\n",
      "4*9=36\n",
      "4*10=40\n",
      "\n",
      "\n",
      "5's table\n",
      "5*1=5\n",
      "5*2=10\n",
      "5*3=15\n",
      "5*4=20\n",
      "5*5=25\n",
      "5*6=30\n",
      "5*7=35\n",
      "5*8=40\n",
      "5*9=45\n",
      "5*10=50\n"
     ]
    }
   ],
   "source": [
    "L = [1,2,3,4,5]\n",
    "for num in L:\n",
    "    print(f\"\\n\\n{num}'s table\")\n",
    "    for i in range(1,11):\n",
    "        print(f\"{num}*{i}={num*i}\")\n"
   ]
  },
  {
   "cell_type": "code",
   "execution_count": null,
   "id": "8cea28b9-a903-4e6f-b37e-027a5743cf6e",
   "metadata": {},
   "outputs": [],
   "source": [
    "# a list made by list constrctor with range operator with 1 to 25. \n",
    "#If a number is odd, send it to odd listt else send itt to even."
   ]
  },
  {
   "cell_type": "code",
   "execution_count": 11,
   "id": "3ea80a33-7306-4241-9dcc-0bbc69c62dd7",
   "metadata": {},
   "outputs": [
    {
     "name": "stdout",
     "output_type": "stream",
     "text": [
      "[0, 2, 4, 6, 8, 10, 12, 14, 16, 18, 20, 22, 24]\n",
      "[1, 3, 5, 7, 9, 11, 13, 15, 17, 19, 21, 23, 25]\n"
     ]
    }
   ],
   "source": [
    "even = list()\n",
    "odd = list()\n",
    "Q = list(range(0,26))\n",
    "for x in Q:\n",
    "    if(x&1): # odd\n",
    "        odd.append(x)\n",
    "    else:\n",
    "        even.append(x)\n",
    "print(even)\n",
    "print(odd)"
   ]
  },
  {
   "cell_type": "code",
   "execution_count": 13,
   "id": "2f1ecd71-b67a-48c2-ba38-368988244b0d",
   "metadata": {},
   "outputs": [
    {
     "name": "stdout",
     "output_type": "stream",
     "text": [
      "*\n",
      "**\n",
      "***\n",
      "****\n",
      "*****\n",
      "******\n",
      "*******\n",
      "********\n",
      "*********\n",
      "**********\n"
     ]
    }
   ],
   "source": [
    "hait = 10\n",
    "for i in range(1,hait+1):\n",
    "    print(\"*\"*i)"
   ]
  },
  {
   "cell_type": "code",
   "execution_count": 15,
   "id": "14320575-1cff-40d2-a5b8-fd2057f62711",
   "metadata": {},
   "outputs": [
    {
     "name": "stdout",
     "output_type": "stream",
     "text": [
      "         *\n",
      "        **\n",
      "       ***\n",
      "      ****\n",
      "     *****\n",
      "    ******\n",
      "   *******\n",
      "  ********\n",
      " *********\n",
      "**********\n"
     ]
    }
   ],
   "source": [
    "# for lef sided pyramid\n",
    "hait = 10\n",
    "for i in range(1,hait+1):\n",
    "    print(\" \"*(hait-i)+\"*\"*i)"
   ]
  },
  {
   "cell_type": "markdown",
   "id": "b50294f2-b69d-4600-a94e-f1c3c5fe2a18",
   "metadata": {},
   "source": [
    "def upsum(lst):\n",
    "    result = []\n",
    "    for i in range(len(lst) - 1):\n",
    "        result.append(lst[i] + lst[i + 1])\n",
    "    return result\n",
    "\n",
    "def pascal(n):\n",
    "    if n == 0:\n",
    "        return [1]\n",
    "    else:\n",
    "        return [1] + upsum(pascal(n - 1))"
   ]
  },
  {
   "cell_type": "code",
   "execution_count": 16,
   "id": "1de136ac-79d6-48e6-9ebd-28c572819033",
   "metadata": {},
   "outputs": [
    {
     "name": "stdout",
     "output_type": "stream",
     "text": [
      "[1]\n"
     ]
    }
   ],
   "source": [
    "def upsum(lst):\n",
    "    result = []\n",
    "    for i in range(len(lst) - 1):\n",
    "        result.append(lst[i] + lst[i + 1])\n",
    "    return result\n",
    "\n",
    "def pascal(n):\n",
    "    if n == 0:\n",
    "        return [1]\n",
    "    else:\n",
    "        return [1] + upsum(pascal(n - 1))\n",
    "print(pascal(4))"
   ]
  },
  {
   "cell_type": "code",
   "execution_count": 24,
   "id": "065cfed3-376f-4550-ab93-cd4ed16eb12a",
   "metadata": {},
   "outputs": [
    {
     "name": "stdout",
     "output_type": "stream",
     "text": [
      "[1]\n",
      "[1, 2, 1]\n",
      "[1, 3, 3, 1]\n",
      "[1, 4, 6, 4, 1]\n",
      "[1, 5, 10, 10, 5, 1]\n",
      "[1, 6, 15, 20, 15, 6, 1]\n",
      "[1, 7, 21, 35, 35, 21, 7, 1]\n",
      "[1, 8, 28, 56, 70, 56, 28, 8, 1]\n",
      "[1, 9, 36, 84, 126, 126, 84, 36, 9, 1]\n",
      "[1, 10, 45, 120, 210, 252, 210, 120, 45, 10, 1]\n"
     ]
    },
    {
     "data": {
      "text/plain": [
       "[1, 10, 45, 120, 210, 252, 210, 120, 45, 10, 1]"
      ]
     },
     "execution_count": 24,
     "metadata": {},
     "output_type": "execute_result"
    }
   ],
   "source": [
    "def upsum(n):\n",
    "    if(n==1):\n",
    "        m = [1]\n",
    "        print(m)\n",
    "        return m\n",
    "    elif(n==2):\n",
    "        m = [1,2,1]\n",
    "        print([1])\n",
    "        print(m)\n",
    "        return m\n",
    "    L=[1]\n",
    "    B=upsum(n-1)\n",
    "    for i in range(1,n):\n",
    "        L.append(B[i-1]+B[i])\n",
    "    L.append(1)\n",
    "    print(L)\n",
    "    return L\n",
    "\n",
    "upsum(10)"
   ]
  }
 ],
 "metadata": {
  "kernelspec": {
   "display_name": "Python 3 (ipykernel)",
   "language": "python",
   "name": "python3"
  },
  "language_info": {
   "codemirror_mode": {
    "name": "ipython",
    "version": 3
   },
   "file_extension": ".py",
   "mimetype": "text/x-python",
   "name": "python",
   "nbconvert_exporter": "python",
   "pygments_lexer": "ipython3",
   "version": "3.11.7"
  }
 },
 "nbformat": 4,
 "nbformat_minor": 5
}
