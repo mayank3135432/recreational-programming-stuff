{
 "cells": [
  {
   "cell_type": "code",
   "execution_count": 31,
   "id": "75be867c-760e-419f-a075-4a873efa17e6",
   "metadata": {},
   "outputs": [
    {
     "name": "stdout",
     "output_type": "stream",
     "text": [
      "['hello', 'world', 'hi', 'greetings', '21']\n",
      "['hello', 'world', 'good morning', 'hi', 'greetings', '21']\n",
      "['21', 'good morning', 'greetings', 'hello', 'hi', 'world']\n",
      "6\n",
      "['greetings', 'hello', 'hi']\n",
      "['21', 'greetings', 'hello', 'hi', 'world']\n",
      "3\n",
      "[]\n"
     ]
    }
   ],
   "source": [
    "# create list\n",
    "L=['hello','world','hi','greetings','21']\n",
    "print(L)\n",
    "L.insert(2,'good morning')\n",
    "print(L)\n",
    "L.sort()\n",
    "print(L)\n",
    "print(len(L))\n",
    "print(L[2:5])\n",
    "L.pop(1)\n",
    "print(L)\n",
    "print(L.index('hi')) # returns index of 'hi'\n",
    "L.clear()\n",
    "print(L)\n"
   ]
  },
  {
   "cell_type": "code",
   "execution_count": 25,
   "id": "ae9ea9c1-9c89-453d-bbfe-0104101be3d8",
   "metadata": {},
   "outputs": [
    {
     "name": "stdout",
     "output_type": "stream",
     "text": [
      "['!', '!', '!', '!', '!', '\"', '\"', '\"', '\"', '\"', '#', '#', '#', '#', '#', '$', '$', '$', '$', '$', '%', '%', '%', '%', '%', '&', '&', '&', '&', '&', \"'\", \"'\", \"'\", \"'\", \"'\", '(', '(', '(', '(', '(', ')', ')', ')', ')', ')', '*', '*', '*', '*', '*', '+', '+', '+', '+', '+', ',', ',', ',', ',', ',', '-', '-', '-', '-', '-', '.', '.', '.', '.', '.', '/', '/', '/', '/', '/', '0', '0', '0', '0', '0', '1', '1', '1', '1', '1', '2', '2', '2', '2', '2', '3', '3', '3', '3', '3', '4', '4', '4', '4', '4', '5', '5', '5', '5', '5', '6', '6', '6', '6', '6', '7', '7', '7', '7', '7', '8', '8', '8', '8', '8', '9', '9', '9', '9', '9', ':', ':', ':', ':', ':', ';', ';', ';', ';', ';', '<', '<', '<', '<', '<', '=', '=', '=', '=', '=', '>', '>', '>', '>', '>', '?', '?', '?', '?', '?', '@', '@', '@', '@', '@', 'A', 'A', 'A', 'A', 'A', 'B', 'B', 'B', 'B', 'B', 'C', 'C', 'C', 'C', 'C', 'D', 'D', 'D', 'D', 'D', 'E', 'E', 'E', 'E', 'E', 'F', 'F', 'F', 'F', 'F', 'G', 'G', 'G', 'G', 'G', 'H', 'H', 'H', 'H', 'H', 'I', 'I', 'I', 'I', 'I', 'J', 'J', 'J', 'J', 'J', 'K', 'K', 'K', 'K', 'K', 'L', 'L', 'L', 'L', 'L', 'M', 'M', 'M', 'M', 'M', 'N', 'N', 'N', 'N', 'N', 'O', 'O', 'O', 'O', 'O', 'P', 'P', 'P', 'P', 'P', 'Q', 'Q', 'Q', 'Q', 'Q', 'R', 'R', 'R', 'R', 'R', 'S', 'S', 'S', 'S', 'S', 'T', 'T', 'T', 'T', 'T', 'U', 'U', 'U', 'U', 'U', 'V', 'V', 'V', 'V', 'V', 'W', 'W', 'W', 'W', 'W', 'X', 'X', 'X', 'X', 'X', 'Y', 'Y', 'Y', 'Y', 'Y', 'Z', 'Z', 'Z', 'Z', 'Z', '[', '[', '[', '[', '[', '\\\\', '\\\\', '\\\\', '\\\\', '\\\\', ']', ']', ']', ']', ']', '^', '^', '^', '^', '^', '_', '_', '_', '_', '_', '`', '`', '`', '`', '`', 'a', 'a', 'a', 'a', 'a', 'b', 'b', 'b', 'b', 'b', 'c', 'c', 'c', 'c', 'c', 'd', 'd', 'd', 'd', 'd', 'e', 'e', 'e', 'e', 'e', 'f', 'f', 'f', 'f', 'f', 'g', 'g', 'g', 'g', 'g', 'h', 'h', 'h', 'h', 'h', 'i', 'i', 'i', 'i', 'i', 'j', 'j', 'j', 'j', 'j', 'k', 'k', 'k', 'k', 'k', 'l', 'l', 'l', 'l', 'l', 'm', 'm', 'm', 'm', 'm', 'n', 'n', 'n', 'n', 'n', 'o', 'o', 'o', 'o', 'o', 'p', 'p', 'p', 'p', 'p', 'q', 'q', 'q', 'q', 'q', 'r', 'r', 'r', 'r', 'r', 's', 's', 's', 's', 's', 't', 't', 't', 't', 't', 'u', 'u', 'u', 'u', 'u', 'v', 'v', 'v', 'v', 'v', 'w', 'w', 'w', 'w', 'w', 'x', 'x', 'x', 'x', 'x', 'y', 'y', 'y', 'y', 'y', 'z', 'z', 'z', 'z', 'z', '{', '{', '{', '{', '{', '|', '|', '|', '|', '|', '}', '}', '}', '}', '}', '~', '~', '~', '~', '~']\n",
      "_________________________SORT______________________\n",
      "['!', '!', '!', '!', '!', '\"', '\"', '\"', '\"', '\"', '#', '#', '#', '#', '#', '$', '$', '$', '$', '$', '%', '%', '%', '%', '%', '&', '&', '&', '&', '&', \"'\", \"'\", \"'\", \"'\", \"'\", '(', '(', '(', '(', '(', ')', ')', ')', ')', ')', '*', '*', '*', '*', '*', '+', '+', '+', '+', '+', ',', ',', ',', ',', ',', '-', '-', '-', '-', '-', '.', '.', '.', '.', '.', '/', '/', '/', '/', '/', '0', '0', '0', '0', '0', '1', '1', '1', '1', '1', '2', '2', '2', '2', '2', '3', '3', '3', '3', '3', '4', '4', '4', '4', '4', '5', '5', '5', '5', '5', '6', '6', '6', '6', '6', '7', '7', '7', '7', '7', '8', '8', '8', '8', '8', '9', '9', '9', '9', '9', ':', ':', ':', ':', ':', ';', ';', ';', ';', ';', '<', '<', '<', '<', '<', '=', '=', '=', '=', '=', '>', '>', '>', '>', '>', '?', '?', '?', '?', '?', '@', '@', '@', '@', '@', 'A', 'A', 'A', 'A', 'A', 'B', 'B', 'B', 'B', 'B', 'C', 'C', 'C', 'C', 'C', 'D', 'D', 'D', 'D', 'D', 'E', 'E', 'E', 'E', 'E', 'F', 'F', 'F', 'F', 'F', 'G', 'G', 'G', 'G', 'G', 'H', 'H', 'H', 'H', 'H', 'I', 'I', 'I', 'I', 'I', 'J', 'J', 'J', 'J', 'J', 'K', 'K', 'K', 'K', 'K', 'L', 'L', 'L', 'L', 'L', 'M', 'M', 'M', 'M', 'M', 'N', 'N', 'N', 'N', 'N', 'O', 'O', 'O', 'O', 'O', 'P', 'P', 'P', 'P', 'P', 'Q', 'Q', 'Q', 'Q', 'Q', 'R', 'R', 'R', 'R', 'R', 'S', 'S', 'S', 'S', 'S', 'T', 'T', 'T', 'T', 'T', 'U', 'U', 'U', 'U', 'U', 'V', 'V', 'V', 'V', 'V', 'W', 'W', 'W', 'W', 'W', 'X', 'X', 'X', 'X', 'X', 'Y', 'Y', 'Y', 'Y', 'Y', 'Z', 'Z', 'Z', 'Z', 'Z', '[', '[', '[', '[', '[', '\\\\', '\\\\', '\\\\', '\\\\', '\\\\', ']', ']', ']', ']', ']', '^', '^', '^', '^', '^', '_', '_', '_', '_', '_', '`', '`', '`', '`', '`', 'a', 'a', 'a', 'a', 'a', 'b', 'b', 'b', 'b', 'b', 'c', 'c', 'c', 'c', 'c', 'd', 'd', 'd', 'd', 'd', 'e', 'e', 'e', 'e', 'e', 'f', 'f', 'f', 'f', 'f', 'g', 'g', 'g', 'g', 'g', 'h', 'h', 'h', 'h', 'h', 'i', 'i', 'i', 'i', 'i', 'j', 'j', 'j', 'j', 'j', 'k', 'k', 'k', 'k', 'k', 'l', 'l', 'l', 'l', 'l', 'm', 'm', 'm', 'm', 'm', 'n', 'n', 'n', 'n', 'n', 'o', 'o', 'o', 'o', 'o', 'p', 'p', 'p', 'p', 'p', 'q', 'q', 'q', 'q', 'q', 'r', 'r', 'r', 'r', 'r', 's', 's', 's', 's', 's', 't', 't', 't', 't', 't', 'u', 'u', 'u', 'u', 'u', 'v', 'v', 'v', 'v', 'v', 'w', 'w', 'w', 'w', 'w', 'x', 'x', 'x', 'x', 'x', 'y', 'y', 'y', 'y', 'y', 'z', 'z', 'z', 'z', 'z', '{', '{', '{', '{', '{', '|', '|', '|', '|', '|', '}', '}', '}', '}', '}', '~', '~', '~', '~', '~']\n"
     ]
    }
   ],
   "source": [
    "for i in range(33,127):\n",
    "    arr.append(chr(i))\n",
    "brr = arr\n",
    "brr.sort()\n",
    "print(arr)\n",
    "print(\"_________________________SORT______________________\")\n",
    "print(brr)"
   ]
  },
  {
   "cell_type": "code",
   "execution_count": 42,
   "id": "0a5b50c6-d34f-4d30-8e31-55e55f10398d",
   "metadata": {},
   "outputs": [
    {
     "name": "stdout",
     "output_type": "stream",
     "text": [
      "[5, 6, 7]\n",
      "[5, 6, 7]\n",
      "10\n",
      "[1, 2, 3, 4, 5, 6, 7, 8, 10]\n",
      "5\n"
     ]
    }
   ],
   "source": [
    "Q = list(range(1,11))\n",
    "print(Q[4:7])\n",
    "print(Q[-6:-3])\n",
    "print(len(Q))\n",
    "Q.pop(Q.index(9))\n",
    "print(Q)\n",
    "print(Q.index(6))"
   ]
  },
  {
   "cell_type": "code",
   "execution_count": 54,
   "id": "181bf72a-ea95-4215-880b-854a7627e887",
   "metadata": {},
   "outputs": [
    {
     "name": "stdout",
     "output_type": "stream",
     "text": [
      "this is\n",
      "multiline\n",
      "string\n",
      "13\n",
      "-1\n"
     ]
    }
   ],
   "source": [
    "multi = \"\"\"this is\n",
    "multiline\n",
    "string\"\"\"\n",
    "print(multi)\n",
    "\n",
    "print(multi.find(\"line\"))\n",
    "print(multi.find(\"gdbd\"))"
   ]
  },
  {
   "cell_type": "code",
   "execution_count": 56,
   "id": "af351cf3-bd5e-451a-a501-79fc466223bf",
   "metadata": {},
   "outputs": [
    {
     "name": "stdout",
     "output_type": "stream",
     "text": [
      "False\n"
     ]
    }
   ],
   "source": [
    "print(10<9)"
   ]
  },
  {
   "cell_type": "code",
   "execution_count": 58,
   "id": "448f0b6f-2b1d-4cef-86ee-840f59c08970",
   "metadata": {},
   "outputs": [
    {
     "data": {
      "text/plain": [
       "str"
      ]
     },
     "execution_count": 58,
     "metadata": {},
     "output_type": "execute_result"
    }
   ],
   "source": [
    "var1 = 94\n",
    "cal = str(var1)\n",
    "type(cal)"
   ]
  },
  {
   "cell_type": "code",
   "execution_count": 59,
   "id": "40a5c2d0-129e-4591-9927-de98f8f973c4",
   "metadata": {},
   "outputs": [
    {
     "ename": "ValueError",
     "evalue": "could not convert string to float: 'string'",
     "output_type": "error",
     "traceback": [
      "\u001b[0;31m---------------------------------------------------------------------------\u001b[0m",
      "\u001b[0;31mValueError\u001b[0m                                Traceback (most recent call last)",
      "Cell \u001b[0;32mIn[59], line 2\u001b[0m\n\u001b[1;32m      1\u001b[0m varstr \u001b[38;5;241m=\u001b[39m \u001b[38;5;124m'\u001b[39m\u001b[38;5;124mstring\u001b[39m\u001b[38;5;124m'\u001b[39m\n\u001b[0;32m----> 2\u001b[0m fvar \u001b[38;5;241m=\u001b[39m \u001b[38;5;28;43mfloat\u001b[39;49m\u001b[43m(\u001b[49m\u001b[43mvarstr\u001b[49m\u001b[43m)\u001b[49m\n\u001b[1;32m      3\u001b[0m fvar\n",
      "\u001b[0;31mValueError\u001b[0m: could not convert string to float: 'string'"
     ]
    }
   ],
   "source": [
    "varstr = 'string'\n",
    "fvar = float(varstr)\n",
    "fvar"
   ]
  },
  {
   "cell_type": "code",
   "execution_count": 68,
   "id": "04f81d7d-82fa-4e7d-b01f-98371b34ca0e",
   "metadata": {},
   "outputs": [
    {
     "data": {
      "text/plain": [
       "'  HELLO WORLD  '"
      ]
     },
     "execution_count": 68,
     "metadata": {},
     "output_type": "execute_result"
    }
   ],
   "source": [
    "str1 = \"  hello world  \"\n",
    "str1.strip()\n",
    "str1.replace(\" \",\"\")\n",
    "str1.upper()\n"
   ]
  },
  {
   "cell_type": "code",
   "execution_count": null,
   "id": "fb7c813d-f37d-4661-bda4-b94e774377ac",
   "metadata": {},
   "outputs": [],
   "source": []
  }
 ],
 "metadata": {
  "kernelspec": {
   "display_name": "Python 3 (ipykernel)",
   "language": "python",
   "name": "python3"
  },
  "language_info": {
   "codemirror_mode": {
    "name": "ipython",
    "version": 3
   },
   "file_extension": ".py",
   "mimetype": "text/x-python",
   "name": "python",
   "nbconvert_exporter": "python",
   "pygments_lexer": "ipython3",
   "version": "3.11.6"
  }
 },
 "nbformat": 4,
 "nbformat_minor": 5
}
