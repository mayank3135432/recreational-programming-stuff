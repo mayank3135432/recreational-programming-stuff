{
 "cells": [
  {
   "cell_type": "code",
   "execution_count": 1,
   "id": "cc9e9933-7284-42ad-9201-60d08e0fd36c",
   "metadata": {},
   "outputs": [],
   "source": [
    "import numpy as np\n",
    "cgpa = lambda G,C : np.sum(G*C)/sum(C)"
   ]
  },
  {
   "cell_type": "code",
   "execution_count": 5,
   "id": "b9279df3-d44c-43dc-a9b4-5d4cd8e7496d",
   "metadata": {},
   "outputs": [],
   "source": [
    "sub = ['CS204','CS205','CS206','DS202','DS203','HS201','EC205','CR202']"
   ]
  },
  {
   "cell_type": "code",
   "execution_count": 10,
   "id": "6cca6b11-7125-4970-b8aa-e613df186ee3",
   "metadata": {},
   "outputs": [],
   "source": [
    "G = np.array([10,8,10,8,8,8,8,8])"
   ]
  },
  {
   "cell_type": "code",
   "execution_count": 3,
   "id": "6b3ce67a-2244-40e5-b97b-5c381ac0b875",
   "metadata": {},
   "outputs": [],
   "source": [
    "C = np.array([3,3,3,3,3,3,3,1])"
   ]
  },
  {
   "cell_type": "code",
   "execution_count": 9,
   "id": "df19c27d-50db-4494-afb9-0fedb56a7d98",
   "metadata": {},
   "outputs": [
    {
     "data": {
      "text/plain": [
       "8.818181818181818"
      ]
     },
     "execution_count": 9,
     "metadata": {},
     "output_type": "execute_result"
    }
   ],
   "source": [
    "cgpa(G,C)"
   ]
  }
 ],
 "metadata": {
  "kernelspec": {
   "display_name": "Python 3 (ipykernel)",
   "language": "python",
   "name": "python3"
  },
  "language_info": {
   "codemirror_mode": {
    "name": "ipython",
    "version": 3
   },
   "file_extension": ".py",
   "mimetype": "text/x-python",
   "name": "python",
   "nbconvert_exporter": "python",
   "pygments_lexer": "ipython3",
   "version": "3.12.3"
  }
 },
 "nbformat": 4,
 "nbformat_minor": 5
}
