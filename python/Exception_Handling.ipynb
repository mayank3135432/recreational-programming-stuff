{
 "cells": [
  {
   "cell_type": "code",
   "execution_count": 1,
   "id": "81d5c2c2-0b33-443a-87f6-4fa4d1f291d3",
   "metadata": {},
   "outputs": [
    {
     "ename": "ZeroDivisionError",
     "evalue": "division by zero",
     "output_type": "error",
     "traceback": [
      "\u001b[0;31m---------------------------------------------------------------------------\u001b[0m",
      "\u001b[0;31mZeroDivisionError\u001b[0m                         Traceback (most recent call last)",
      "Cell \u001b[0;32mIn[1], line 3\u001b[0m\n\u001b[1;32m      1\u001b[0m a\u001b[38;5;241m=\u001b[39m\u001b[38;5;241m5\u001b[39m\n\u001b[1;32m      2\u001b[0m b\u001b[38;5;241m=\u001b[39m\u001b[38;5;241m0\u001b[39m\n\u001b[0;32m----> 3\u001b[0m \u001b[38;5;28mprint\u001b[39m(\u001b[43ma\u001b[49m\u001b[38;5;241;43m/\u001b[39;49m\u001b[43mb\u001b[49m)\n\u001b[1;32m      4\u001b[0m \u001b[38;5;28mprint\u001b[39m(\u001b[38;5;124m\"\u001b[39m\u001b[38;5;124mBye\u001b[39m\u001b[38;5;124m\"\u001b[39m)\n",
      "\u001b[0;31mZeroDivisionError\u001b[0m: division by zero"
     ]
    }
   ],
   "source": [
    "a=5\n",
    "b=0\n",
    "print(a/b)\n",
    "print(\"Bye\")"
   ]
  },
  {
   "cell_type": "code",
   "execution_count": 2,
   "id": "0937279e-4977-4edf-b8bb-f7c613ecd3c2",
   "metadata": {},
   "outputs": [
    {
     "ename": "NameError",
     "evalue": "name 'x' is not defined",
     "output_type": "error",
     "traceback": [
      "\u001b[0;31m---------------------------------------------------------------------------\u001b[0m",
      "\u001b[0;31mNameError\u001b[0m                                 Traceback (most recent call last)",
      "Cell \u001b[0;32mIn[2], line 1\u001b[0m\n\u001b[0;32m----> 1\u001b[0m \u001b[38;5;28mprint\u001b[39m(\u001b[43mx\u001b[49m)\n",
      "\u001b[0;31mNameError\u001b[0m: name 'x' is not defined"
     ]
    }
   ],
   "source": [
    "print(x)"
   ]
  },
  {
   "cell_type": "code",
   "execution_count": 3,
   "id": "65628895-3916-44ab-9022-c323ee7683b7",
   "metadata": {},
   "outputs": [
    {
     "name": "stdin",
     "output_type": "stream",
     "text": [
      "enter numerator  21\n",
      "enter denomiator 2\n"
     ]
    },
    {
     "name": "stdout",
     "output_type": "stream",
     "text": [
      "10.5\n",
      "bye\n"
     ]
    }
   ],
   "source": [
    "a=int(input('enter numerator '))\n",
    "b=int(input('enter denomiator'))\n",
    "print(a/b) # this is a critical statement\n",
    "print(\"bye\")"
   ]
  },
  {
   "cell_type": "code",
   "execution_count": 10,
   "id": "573252e0-98e3-40e8-ade8-99cd32799aee",
   "metadata": {},
   "outputs": [
    {
     "name": "stdin",
     "output_type": "stream",
     "text": [
      "enter numerator  5\n",
      "enter denomiator  1qwe\n"
     ]
    },
    {
     "name": "stdout",
     "output_type": "stream",
     "text": [
      "please add valid input\n",
      "divide by zero error\n",
      "bye\n"
     ]
    }
   ],
   "source": [
    "# enclose critical statements in try block\n",
    "try:\n",
    "    a=int(input('enter numerator '))\n",
    "    b=int(input('enter denomiator '))\n",
    "except:\n",
    "    print(\"please add valid input\")\n",
    "else:\n",
    "    print(\"no problem with input\")\n",
    "\n",
    "\n",
    "try:\n",
    "    print(a/b)\n",
    "except:\n",
    "    print(\"divide by zero error\")\n",
    "else:\n",
    "    print(\"no error\")\n",
    "finally:\n",
    "    pass\n",
    "\n",
    "print(\"bye\")"
   ]
  },
  {
   "cell_type": "code",
   "execution_count": null,
   "id": "85c90493-7b48-4822-b08d-42360e04d383",
   "metadata": {},
   "outputs": [],
   "source": [
    "# try block: try a critical staatement\n",
    "# except: executed if try block raises error\n",
    "# else: used when no error\n",
    "# finally"
   ]
  },
  {
   "cell_type": "code",
   "execution_count": null,
   "id": "bfe7ee20-ca5d-4682-acb4-57cc10e6f4b7",
   "metadata": {},
   "outputs": [],
   "source": []
  },
  {
   "cell_type": "code",
   "execution_count": 12,
   "id": "4db371f0-474a-431d-b1b7-59ae131bcd80",
   "metadata": {},
   "outputs": [
    {
     "name": "stdin",
     "output_type": "stream",
     "text": [
      "enter numerator  9\n",
      "enter denomiator  p\n"
     ]
    },
    {
     "name": "stdout",
     "output_type": "stream",
     "text": [
      "please add valid input\n",
      "0\n",
      "bye\n"
     ]
    }
   ],
   "source": [
    "# enclose critical statements in try block\n",
    "try:\n",
    "    a=int(input('enter numaerator '))\n",
    "    b=int(input('enter denomiator '))\n",
    "except:\n",
    "    print(\"please add valid input\")\n",
    "else:\n",
    "    print(\"no problem with input\")\n",
    "\n",
    "print(b)\n",
    "\n",
    "print(\"bye\")"
   ]
  },
  {
   "cell_type": "code",
   "execution_count": 10,
   "id": "6f4f104f-3c5a-4d59-b8a5-fe3f857e176d",
   "metadata": {},
   "outputs": [
    {
     "name": "stdin",
     "output_type": "stream",
     "text": [
      "enter numerator  5\n",
      "enter denomiator  1qwe\n"
     ]
    },
    {
     "name": "stdout",
     "output_type": "stream",
     "text": [
      "please add valid input\n",
      "divide by zero error\n",
      "bye\n"
     ]
    }
   ],
   "source": [
    "# enclose critical statements in try block\n",
    "try:\n",
    "    a=int(input('enter numerator '))\n",
    "    b=int(input('enter denomiator '))\n",
    "except:\n",
    "    print(\"please add valid input\")\n",
    "else:\n",
    "    print(\"no problem with input\")\n",
    "\n",
    "\n",
    "try:\n",
    "    print(a/b)\n",
    "except:\n",
    "    print(\"divide by zero error\")\n",
    "else:\n",
    "    print(\"no error\")\n",
    "finally:\n",
    "    pass\n",
    "\n",
    "print(\"bye\")"
   ]
  },
  {
   "cell_type": "code",
   "execution_count": 19,
   "id": "288714f8-e5cb-47bd-ae2f-cfeb5bfd516e",
   "metadata": {},
   "outputs": [
    {
     "name": "stdout",
     "output_type": "stream",
     "text": [
      "zero divide error\n",
      "no error\n",
      "6.0\n",
      "no error\n",
      "no error\n",
      "3.0\n",
      "no error\n",
      "no error\n",
      "2.0\n",
      "no error\n",
      "no error\n",
      "1.5\n",
      "no error\n",
      "no error\n",
      "1.2\n",
      "no error\n",
      "no error\n",
      "1.0\n",
      "no error\n",
      "no error\n",
      "zero divide error\n",
      "no error\n"
     ]
    }
   ],
   "source": [
    "a=6\n",
    "values=[0,1,2,3,4,5,6,\"name\"]\n",
    "for value in values:\n",
    "    try:\n",
    "        print(a/value)\n",
    "    except NameError:\n",
    "        print(\"Name error\")\n",
    "    \n",
    "    except:\n",
    "        print(\"zero divide error\")\n",
    "    else:\n",
    "        print(\"no error\")\n",
    "    finally:\n",
    "        print(\"no error\")"
   ]
  },
  {
   "cell_type": "code",
   "execution_count": 21,
   "id": "42efe323-0e3a-428f-bdb1-600809749dd3",
   "metadata": {},
   "outputs": [
    {
     "name": "stdout",
     "output_type": "stream",
     "text": [
      "NAME ERROR\n"
     ]
    }
   ],
   "source": [
    "try:\n",
    "    print(W)\n",
    "except NameError:\n",
    "    print(\"NAME ERROR\")\n",
    "else:\n",
    "    print(\"no error\")\n",
    "finally:\n",
    "    pass\n"
   ]
  },
  {
   "cell_type": "code",
   "execution_count": 2,
   "id": "2547ed0a-c822-49d4-a1fc-c49d7a553e63",
   "metadata": {},
   "outputs": [
    {
     "data": {
      "text/plain": [
       "4"
      ]
     },
     "execution_count": 2,
     "metadata": {},
     "output_type": "execute_result"
    }
   ],
   "source": [
    "def foo():\n",
    "    try:\n",
    "        return 1\n",
    "    except:\n",
    "        return 2\n",
    "    else:\n",
    "        return 3\n",
    "    finally:\n",
    "        return 4\n",
    "\n",
    "foo()"
   ]
  },
  {
   "cell_type": "code",
   "execution_count": 6,
   "id": "c4cd2944-71f2-46a9-924b-c596cbdb6aa0",
   "metadata": {},
   "outputs": [
    {
     "data": {
      "text/plain": [
       "[1, 2, 4]"
      ]
     },
     "execution_count": 6,
     "metadata": {},
     "output_type": "execute_result"
    }
   ],
   "source": [
    "asd = [1,2,3,4]\n",
    "asd.pop(2)\n",
    "asd"
   ]
  }
 ],
 "metadata": {
  "kernelspec": {
   "display_name": "Python 3 (ipykernel)",
   "language": "python",
   "name": "python3"
  },
  "language_info": {
   "codemirror_mode": {
    "name": "ipython",
    "version": 3
   },
   "file_extension": ".py",
   "mimetype": "text/x-python",
   "name": "python",
   "nbconvert_exporter": "python",
   "pygments_lexer": "ipython3",
   "version": "3.11.8"
  }
 },
 "nbformat": 4,
 "nbformat_minor": 5
}
