{
 "cells": [
  {
   "cell_type": "code",
   "execution_count": 1,
   "id": "e9b9e23c-2073-43a9-afed-7ff8b88dd867",
   "metadata": {},
   "outputs": [
    {
     "data": {
      "text/plain": [
       "[3, 1, 2, 5, 3, 7, -1, -2]"
      ]
     },
     "execution_count": 1,
     "metadata": {},
     "output_type": "execute_result"
    }
   ],
   "source": [
    "def make(X):\n",
    "    for x in X:\n",
    "        x = x+1\n",
    "    return X\n",
    "\n",
    "make([3,1,2,5,3,7,-1,-2])"
   ]
  },
  {
   "cell_type": "code",
   "execution_count": 7,
   "id": "0415414a-f07c-4611-8ff8-7384b4e28abd",
   "metadata": {},
   "outputs": [],
   "source": [
    "def multi(*numbers): # take arbitary number of inpurs\n",
    "    de=1\n",
    "    for x in numbers:\n",
    "        de = de*x\n",
    "    return de"
   ]
  },
  {
   "cell_type": "code",
   "execution_count": 8,
   "id": "4364eeaa-80af-4165-bd41-782d655c5f0b",
   "metadata": {},
   "outputs": [
    {
     "data": {
      "text/plain": [
       "48"
      ]
     },
     "execution_count": 8,
     "metadata": {},
     "output_type": "execute_result"
    }
   ],
   "source": [
    "multi(1,4,2,6)"
   ]
  },
  {
   "cell_type": "code",
   "execution_count": 3,
   "id": "1e9e9dca-7aa1-4fe1-9c0d-e71e111b2ae5",
   "metadata": {},
   "outputs": [
    {
     "name": "stdout",
     "output_type": "stream",
     "text": [
      "31\n"
     ]
    }
   ],
   "source": [
    "def add(aa,bb):\n",
    "    print(aa+bb)\n",
    "\n",
    "add(54,-23)"
   ]
  },
  {
   "cell_type": "code",
   "execution_count": null,
   "id": "504b95ee-234e-4d36-a034-8be703b974b1",
   "metadata": {},
   "outputs": [],
   "source": []
  },
  {
   "cell_type": "code",
   "execution_count": 4,
   "id": "f1d70ebd-7ba6-41e9-b735-265172fc2de1",
   "metadata": {},
   "outputs": [],
   "source": [
    "def foo(x):\n",
    "    def goo(y):\n",
    "        return x+y\n",
    "    return goo\n"
   ]
  },
  {
   "cell_type": "code",
   "execution_count": 6,
   "id": "7227f610-53ce-4783-8e9f-dccf00afd4a2",
   "metadata": {},
   "outputs": [
    {
     "data": {
      "text/plain": [
       "function"
      ]
     },
     "execution_count": 6,
     "metadata": {},
     "output_type": "execute_result"
    }
   ],
   "source": [
    "type(foo(4))"
   ]
  },
  {
   "cell_type": "code",
   "execution_count": 4,
   "id": "883d1717-0d62-4cfa-81cd-c4109792e2cb",
   "metadata": {},
   "outputs": [],
   "source": [
    "def increment(a,b=1):\n",
    "    return(a+b)\n",
    "\n"
   ]
  },
  {
   "cell_type": "code",
   "execution_count": 6,
   "id": "d6bfdecf-01dd-4936-b3b5-9ef7c6263c6b",
   "metadata": {},
   "outputs": [
    {
     "data": {
      "text/plain": [
       "11"
      ]
     },
     "execution_count": 6,
     "metadata": {},
     "output_type": "execute_result"
    }
   ],
   "source": [
    "increment(10)"
   ]
  },
  {
   "cell_type": "code",
   "execution_count": 9,
   "id": "257d59e7-5917-478c-9b29-46a9c0a19e7f",
   "metadata": {},
   "outputs": [],
   "source": [
    "def sum_to(n):\n",
    "    return (n*n+1)//2"
   ]
  },
  {
   "cell_type": "code",
   "execution_count": 10,
   "id": "4da80314-2ab2-445b-a334-9bdd5ec61a12",
   "metadata": {},
   "outputs": [
    {
     "data": {
      "text/plain": [
       "50"
      ]
     },
     "execution_count": 10,
     "metadata": {},
     "output_type": "execute_result"
    }
   ],
   "source": [
    "sum_to(10)"
   ]
  }
 ],
 "metadata": {
  "kernelspec": {
   "display_name": "Python 3 (ipykernel)",
   "language": "python",
   "name": "python3"
  },
  "language_info": {
   "codemirror_mode": {
    "name": "ipython",
    "version": 3
   },
   "file_extension": ".py",
   "mimetype": "text/x-python",
   "name": "python",
   "nbconvert_exporter": "python",
   "pygments_lexer": "ipython3",
   "version": "3.11.7"
  }
 },
 "nbformat": 4,
 "nbformat_minor": 5
}
