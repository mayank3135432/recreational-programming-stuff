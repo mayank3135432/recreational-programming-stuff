{
 "cells": [
  {
   "cell_type": "code",
   "execution_count": 15,
   "id": "2b5e1158-d7e0-4b2c-bdb4-57a87d6d1883",
   "metadata": {},
   "outputs": [
    {
     "name": "stdout",
     "output_type": "stream",
     "text": [
      "['toyota', 'hyundai', 'maruti']\n",
      "['toyota', 'ikea', 'maruti']\n"
     ]
    }
   ],
   "source": [
    "cars = [\"toyota\", \"hyundai\", \"maruti\"]\n",
    "print(cars)\n",
    "cars[1] = 'ikea'\n",
    "print(cars)\n"
   ]
  },
  {
   "cell_type": "code",
   "execution_count": 16,
   "id": "8b47adf0-0cdc-4636-9d0e-b163221fd354",
   "metadata": {},
   "outputs": [
    {
     "name": "stdout",
     "output_type": "stream",
     "text": [
      "toyota\n"
     ]
    }
   ],
   "source": [
    "X = cars[0]\n",
    "print(X)"
   ]
  },
  {
   "cell_type": "code",
   "execution_count": 17,
   "id": "127ca7ff-7692-41b1-a2a2-d7c3670ff8eb",
   "metadata": {},
   "outputs": [
    {
     "data": {
      "text/plain": [
       "3"
      ]
     },
     "execution_count": 17,
     "metadata": {},
     "output_type": "execute_result"
    }
   ],
   "source": [
    "len(cars)"
   ]
  },
  {
   "cell_type": "code",
   "execution_count": 18,
   "id": "50106ecd-15cd-4821-90ad-5af125c456c3",
   "metadata": {},
   "outputs": [
    {
     "name": "stdout",
     "output_type": "stream",
     "text": [
      "[6, 4, 6]\n"
     ]
    }
   ],
   "source": [
    "print( list( map(len, cars) ) )"
   ]
  },
  {
   "cell_type": "code",
   "execution_count": 19,
   "id": "5bf5ab38-df3a-49f1-b9c7-4695aed30d63",
   "metadata": {},
   "outputs": [
    {
     "name": "stdout",
     "output_type": "stream",
     "text": [
      "toyota\n",
      "ikea\n",
      "maruti\n"
     ]
    }
   ],
   "source": [
    "for x in cars:\n",
    "    print(x)"
   ]
  },
  {
   "cell_type": "code",
   "execution_count": 20,
   "id": "51dc65c2-e16d-44a3-a89e-87c1adb0f4f5",
   "metadata": {},
   "outputs": [],
   "source": [
    "cars.append(\"tata\")"
   ]
  },
  {
   "cell_type": "code",
   "execution_count": 21,
   "id": "1fdcf290-4b31-4b81-a458-f506b9f85ce9",
   "metadata": {},
   "outputs": [],
   "source": [
    "cars.append(\"volkswagen\")"
   ]
  },
  {
   "cell_type": "code",
   "execution_count": 22,
   "id": "4e5b3920-e531-46e3-af1c-50ad8cad77ba",
   "metadata": {},
   "outputs": [
    {
     "name": "stdout",
     "output_type": "stream",
     "text": [
      "['toyota', 'ikea', 'maruti', 'tata', 'volkswagen']\n"
     ]
    }
   ],
   "source": [
    "print(cars)"
   ]
  },
  {
   "cell_type": "code",
   "execution_count": 23,
   "id": "7d8cbbc3-f8b9-4d34-a15f-04add9e96eb1",
   "metadata": {},
   "outputs": [
    {
     "data": {
      "text/plain": [
       "'volkswagen'"
      ]
     },
     "execution_count": 23,
     "metadata": {},
     "output_type": "execute_result"
    }
   ],
   "source": [
    "cars.pop()"
   ]
  },
  {
   "cell_type": "code",
   "execution_count": 25,
   "id": "a383fdca-c7bf-4a6c-a946-337f9944bf8c",
   "metadata": {},
   "outputs": [],
   "source": [
    "cars.remove('ikea')"
   ]
  },
  {
   "cell_type": "code",
   "execution_count": 27,
   "id": "08830714-a655-41ce-b531-99aa985d9430",
   "metadata": {},
   "outputs": [
    {
     "data": {
      "text/plain": [
       "1"
      ]
     },
     "execution_count": 27,
     "metadata": {},
     "output_type": "execute_result"
    }
   ],
   "source": [
    "cars.count('maruti')"
   ]
  },
  {
   "cell_type": "code",
   "execution_count": 28,
   "id": "c1b2a0ed-653e-4742-a2a5-2c2fbbdcec30",
   "metadata": {},
   "outputs": [],
   "source": [
    "cocars = cars.copy()"
   ]
  },
  {
   "cell_type": "code",
   "execution_count": 30,
   "id": "756641b0-9563-4161-a8fd-972d20eda759",
   "metadata": {},
   "outputs": [],
   "source": [
    "cocars.clear()"
   ]
  },
  {
   "cell_type": "code",
   "execution_count": 43,
   "id": "d1050d83-6cd2-48b2-9abd-b3e03df8c38a",
   "metadata": {},
   "outputs": [
    {
     "name": "stdout",
     "output_type": "stream",
     "text": [
      "['Haiku', 'BSD', 'Windows', 'OpenBSD', 'Mac', 'Linux']\n"
     ]
    }
   ],
   "source": [
    "OS = ['Linux', 'Mac']\n",
    "OS2 = ['Windows', 'BSD', 'Haiku']\n",
    "OS.extend(OS2)\n",
    "OS.index('BSD')\n",
    "OS.insert(2,'OpenBSD')\n",
    "OS.reverse()\n",
    "OS\n",
    "OS.index('BSD')\n",
    "print(OS)"
   ]
  },
  {
   "cell_type": "code",
   "execution_count": 44,
   "id": "b09288c4-3c52-49b6-8b8d-55c0480eb41a",
   "metadata": {},
   "outputs": [
    {
     "name": "stdout",
     "output_type": "stream",
     "text": [
      "['BSD', 'Haiku', 'Linux', 'Mac', 'OpenBSD', 'Windows']\n"
     ]
    }
   ],
   "source": [
    "OS.sort()\n",
    "print(OS)"
   ]
  }
 ],
 "metadata": {
  "kernelspec": {
   "display_name": "Python 3 (ipykernel)",
   "language": "python",
   "name": "python3"
  },
  "language_info": {
   "codemirror_mode": {
    "name": "ipython",
    "version": 3
   },
   "file_extension": ".py",
   "mimetype": "text/x-python",
   "name": "python",
   "nbconvert_exporter": "python",
   "pygments_lexer": "ipython3",
   "version": "3.11.8"
  }
 },
 "nbformat": 4,
 "nbformat_minor": 5
}
