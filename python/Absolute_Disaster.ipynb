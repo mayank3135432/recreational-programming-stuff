{
 "cells": [
  {
   "cell_type": "code",
   "execution_count": 17,
   "id": "82557ea5-4109-4d8a-bf35-4f5afd5bfad6",
   "metadata": {},
   "outputs": [],
   "source": [
    "def func(A, d):\n",
    "    A0=list(filter(lambda x: (x!=1), A))\n",
    "    B=list( map(lambda x: x//d, A0) )\n",
    "    C=A+B;\n",
    "    return list(C);\n"
   ]
  },
  {
   "cell_type": "code",
   "execution_count": 18,
   "id": "e3b645fc-0493-4c67-a802-83074b5f2fb5",
   "metadata": {},
   "outputs": [],
   "source": [
    "def minOperations(arr, threshold, d):\n",
    "    A=list(arr)\n",
    "    # Write your code here\n",
    "    counter=1\n",
    "    while(1):\n",
    "        C=func(A, d);\n",
    "        \n",
    "        hashmap={i:C.count(i) for i in C};\n",
    "        for i in hashmap:\n",
    "            if hashmap.get(i)>=threshold:\n",
    "                return counter\n",
    "        counter=counter+1;\n",
    "    "
   ]
  },
  {
   "cell_type": "code",
   "execution_count": 19,
   "id": "a428209c-18b1-4a6b-9fd9-5fb17fe93b00",
   "metadata": {},
   "outputs": [
    {
     "data": {
      "text/plain": [
       "1"
      ]
     },
     "execution_count": 19,
     "metadata": {},
     "output_type": "execute_result"
    }
   ],
   "source": [
    "arr=[1,2,3,4,5]\n",
    "minOperations(arr, 2, 2)"
   ]
  },
  {
   "cell_type": "code",
   "execution_count": 12,
   "id": "0978a879-65eb-4b5f-bcc7-19ef7943f743",
   "metadata": {},
   "outputs": [
    {
     "name": "stdout",
     "output_type": "stream",
     "text": [
      "Help on method_descriptor:\n",
      "\n",
      "append(self, object, /)\n",
      "    Append object to the end of the list.\n",
      "\n"
     ]
    }
   ],
   "source": [
    "help(list.append)"
   ]
  },
  {
   "cell_type": "code",
   "execution_count": 16,
   "id": "296f47ec-e84f-4451-9bdc-fdd02b218546",
   "metadata": {},
   "outputs": [
    {
     "data": {
      "text/plain": [
       "[1, 2, 3, 4, 5, 6]"
      ]
     },
     "execution_count": 16,
     "metadata": {},
     "output_type": "execute_result"
    }
   ],
   "source": [
    "[1,2,3].append([4,5,6])\n",
    "a = [1,2,3]+[4,5,6]\n",
    "a"
   ]
  }
 ],
 "metadata": {
  "kernelspec": {
   "display_name": "Python 3 (ipykernel)",
   "language": "python",
   "name": "python3"
  },
  "language_info": {
   "codemirror_mode": {
    "name": "ipython",
    "version": 3
   },
   "file_extension": ".py",
   "mimetype": "text/x-python",
   "name": "python",
   "nbconvert_exporter": "python",
   "pygments_lexer": "ipython3",
   "version": "3.11.8"
  }
 },
 "nbformat": 4,
 "nbformat_minor": 5
}
