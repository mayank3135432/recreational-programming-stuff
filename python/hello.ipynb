{
 "cells": [
  {
   "cell_type": "code",
   "execution_count": 1,
   "id": "1164d080-37bf-4aeb-9fc2-ef87c3c34645",
   "metadata": {},
   "outputs": [
    {
     "name": "stdout",
     "output_type": "stream",
     "text": [
      "hello how are you\n"
     ]
    }
   ],
   "source": [
    "print(\"hello how are you\")"
   ]
  },
  {
   "cell_type": "code",
   "execution_count": 2,
   "id": "90461402-b898-4acf-8d85-fdd1f9a9f575",
   "metadata": {},
   "outputs": [
    {
     "name": "stdout",
     "output_type": "stream",
     "text": [
      "[ 3  1  2  4 -3]\n"
     ]
    }
   ],
   "source": [
    "import numpy as np\n",
    "A=np.array([3,1,2,4,-3])\n",
    "print(A)"
   ]
  },
  {
   "cell_type": "code",
   "execution_count": null,
   "id": "8943cf56-2f8a-433f-aa61-5f6648f3609d",
   "metadata": {},
   "outputs": [],
   "source": []
  }
 ],
 "metadata": {
  "kernelspec": {
   "display_name": "Python 3 (ipykernel)",
   "language": "python",
   "name": "python3"
  },
  "language_info": {
   "codemirror_mode": {
    "name": "ipython",
    "version": 3
   },
   "file_extension": ".py",
   "mimetype": "text/x-python",
   "name": "python",
   "nbconvert_exporter": "python",
   "pygments_lexer": "ipython3",
   "version": "3.11.6"
  }
 },
 "nbformat": 4,
 "nbformat_minor": 5
}
