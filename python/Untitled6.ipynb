{
 "cells": [
  {
   "cell_type": "code",
   "execution_count": 2,
   "id": "bb007e05-7cc0-4005-a0d8-7f02f66a7ebc",
   "metadata": {},
   "outputs": [],
   "source": [
    "import numpy as np"
   ]
  },
  {
   "cell_type": "code",
   "execution_count": 3,
   "id": "3555bf5e-37e8-4205-b17f-e8428e21115e",
   "metadata": {},
   "outputs": [],
   "source": [
    "def centroid(S):\n",
    "    return np.array(np.sum(S))/len(S)"
   ]
  },
  {
   "cell_type": "code",
   "execution_count": null,
   "id": "1e392d9d-3725-4d70-9397-9a917fc51653",
   "metadata": {},
   "outputs": [],
   "source": []
  }
 ],
 "metadata": {
  "kernelspec": {
   "display_name": "Python 3 (ipykernel)",
   "language": "python",
   "name": "python3"
  },
  "language_info": {
   "codemirror_mode": {
    "name": "ipython",
    "version": 3
   },
   "file_extension": ".py",
   "mimetype": "text/x-python",
   "name": "python",
   "nbconvert_exporter": "python",
   "pygments_lexer": "ipython3",
   "version": "3.12.3"
  }
 },
 "nbformat": 4,
 "nbformat_minor": 5
}
