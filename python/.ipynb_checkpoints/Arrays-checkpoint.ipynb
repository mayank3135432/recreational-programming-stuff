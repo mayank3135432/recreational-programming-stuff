{
 "cells": [
  {
   "cell_type": "code",
   "execution_count": 1,
   "id": "0f3bfd92-9259-4084-a81f-2918b55b6043",
   "metadata": {},
   "outputs": [],
   "source": [
    "from array import *\n"
   ]
  },
  {
   "cell_type": "code",
   "execution_count": 2,
   "id": "d918d076-cfa6-4802-bf26-a7c2e7ff366c",
   "metadata": {},
   "outputs": [
    {
     "name": "stdout",
     "output_type": "stream",
     "text": [
      "array('i', [4, 2, 1, 4, 2, -4])\n"
     ]
    }
   ],
   "source": [
    "a = array( 'i',(4,2,1,4,2,-4) )\n",
    "print(a)"
   ]
  },
  {
   "cell_type": "code",
   "execution_count": 3,
   "id": "7b1fa592-8f51-44c4-857c-24d60b35bc24",
   "metadata": {},
   "outputs": [
    {
     "data": {
      "text/plain": [
       "-4"
      ]
     },
     "execution_count": 3,
     "metadata": {},
     "output_type": "execute_result"
    }
   ],
   "source": [
    "a[-1]"
   ]
  },
  {
   "cell_type": "code",
   "execution_count": 15,
   "id": "51925d54-5ca2-40ff-a27a-13c6f1a982be",
   "metadata": {},
   "outputs": [
    {
     "name": "stdout",
     "output_type": "stream",
     "text": [
      "array('i', [5, 3, 2, 2, 3, 2, 3, 2, 23, 2])\n",
      "array('i', [2, 3, 2, 3])\n"
     ]
    }
   ],
   "source": [
    "B = array('i',[5,3,2,2,3,2,3,2,23])\n",
    "B.append(2)\n",
    "print(B)\n",
    "print(B[3:-3])\n"
   ]
  },
  {
   "cell_type": "code",
   "execution_count": 22,
   "id": "a09da65a-fba5-45e3-9ce7-58cc0ad831c0",
   "metadata": {},
   "outputs": [
    {
     "name": "stdout",
     "output_type": "stream",
     "text": [
      "array('i', [1, 2, 3, 4, 5, 6, 7, 8, 9, 10, 11, 12, 13, 14, 15, 16, 17, 18, 19, 20])\n",
      "array('i', [1, 2, 3, 5, 6, 7, 8, 9, 10, 11, 12, 13, 14, 15, 16, 17, 18, 19, 20])\n",
      "array('i', [1, 2, 3, 5, 6, 100, 7, 8, 9, 10, 11, 12, 13, 14, 15, 16, 17, 18, 19, 20])\n",
      "array('i', [1, 2, 3, 5, 6, 100, 7, 8, 9, 10, 11, 12, 13, 14, 15, 16, 17, 18, 19, 20, 5, 3, 2, 2, 3, 2, 3, 2, 23, 2])\n",
      "array('i', [5, 3, 2, 2, 3, 2, 3, 2, 23, 2])\n",
      "array('i', [1, 2, 3, 5, 6, 100, 7, 8, 9, 10, 11, 12, 13, 14, 15, 16, 17, 18, 19, 20, 5, 3, 2, 2, 3, 2, 3, 2, 23, 2])\n",
      "array('i', [2, 3, 2, 23])\n",
      "2\n"
     ]
    },
    {
     "ename": "AttributeError",
     "evalue": "'array.array' object has no attribute 'sort'",
     "output_type": "error",
     "traceback": [
      "\u001b[0;31m---------------------------------------------------------------------------\u001b[0m",
      "\u001b[0;31mAttributeError\u001b[0m                            Traceback (most recent call last)",
      "Cell \u001b[0;32mIn[22], line 14\u001b[0m\n\u001b[1;32m     12\u001b[0m \u001b[38;5;28mprint\u001b[39m(B[\u001b[38;5;241m-\u001b[39m\u001b[38;5;241m5\u001b[39m:\u001b[38;5;241m-\u001b[39m\u001b[38;5;241m1\u001b[39m])\n\u001b[1;32m     13\u001b[0m \u001b[38;5;28mprint\u001b[39m(A\u001b[38;5;241m.\u001b[39mcount(\u001b[38;5;241m5\u001b[39m))\n\u001b[0;32m---> 14\u001b[0m \u001b[43mA\u001b[49m\u001b[38;5;241;43m.\u001b[39;49m\u001b[43msort\u001b[49m()\n\u001b[1;32m     15\u001b[0m \u001b[38;5;28mprint\u001b[39m(A)\n",
      "\u001b[0;31mAttributeError\u001b[0m: 'array.array' object has no attribute 'sort'"
     ]
    }
   ],
   "source": [
    "A = array('i',range(1,21))\n",
    "print(A)\n",
    "A.remove(4)\n",
    "print(A)\n",
    "A.insert(5,100)\n",
    "print(A)\n",
    "C = A\n",
    "A.extend(B)\n",
    "print(A)\n",
    "print(B)\n",
    "print(C)\n",
    "print(B[-5:-1])\n",
    "print(A.count(5))\n",
    "A.sort()\n",
    "print(A)"
   ]
  }
 ],
 "metadata": {
  "kernelspec": {
   "display_name": "Python 3 (ipykernel)",
   "language": "python",
   "name": "python3"
  },
  "language_info": {
   "codemirror_mode": {
    "name": "ipython",
    "version": 3
   },
   "file_extension": ".py",
   "mimetype": "text/x-python",
   "name": "python",
   "nbconvert_exporter": "python",
   "pygments_lexer": "ipython3",
   "version": "3.11.8"
  }
 },
 "nbformat": 4,
 "nbformat_minor": 5
}
