{
 "cells": [
  {
   "cell_type": "code",
   "execution_count": null,
   "id": "3bca6453-e37e-45bb-9255-c9c3b901c51a",
   "metadata": {},
   "outputs": [],
   "source": [
    "def secondbig(A):\n",
    "    big = A[0];\n",
    "    sec = A[0]\n",
    "    for x in A:\n",
    "        if x>big:\n",
    "            big=x\n",
    "        elif x>sec and x<big:\n",
    "            sec = x\n",
    "    return sec"
   ]
  }
 ],
 "metadata": {
  "kernelspec": {
   "display_name": "Python 3 (ipykernel)",
   "language": "python",
   "name": "python3"
  },
  "language_info": {
   "codemirror_mode": {
    "name": "ipython",
    "version": 3
   },
   "file_extension": ".py",
   "mimetype": "text/x-python",
   "name": "python",
   "nbconvert_exporter": "python",
   "pygments_lexer": "ipython3",
   "version": "3.12.3"
  }
 },
 "nbformat": 4,
 "nbformat_minor": 5
}
