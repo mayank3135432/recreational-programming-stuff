{
 "cells": [
  {
   "cell_type": "code",
   "execution_count": 2,
   "id": "06c537a3-0f96-45c0-a698-20c15c2cb0a7",
   "metadata": {},
   "outputs": [],
   "source": [
    "from itertools import permutations, combinations\n",
    "import numpy as np\n",
    "import matplotlib.pyplot as plt\n"
   ]
  },
  {
   "cell_type": "code",
   "execution_count": null,
   "id": "edb79f68-149f-4f2f-925c-f44b3c5509b2",
   "metadata": {},
   "outputs": [],
   "source": [
    "name = range(0,15)\n",
    "N=list(permutations(name))\n",
    "M=list(combinations(name,4))\n",
    "print(len(N))\n",
    "print(len(M))\n"
   ]
  },
  {
   "cell_type": "code",
   "execution_count": null,
   "id": "6eddf830-082b-4406-8f6f-1c48cdf3abc4",
   "metadata": {},
   "outputs": [],
   "source": [
    "X=[]\n",
    "for x in name:\n",
    "    X.append(len(list(combinations(name,x))))\n",
    "plt.plot(name, X, label=\"comb\")"
   ]
  }
 ],
 "metadata": {
  "kernelspec": {
   "display_name": "Python 3 (ipykernel)",
   "language": "python",
   "name": "python3"
  },
  "language_info": {
   "codemirror_mode": {
    "name": "ipython",
    "version": 3
   },
   "file_extension": ".py",
   "mimetype": "text/x-python",
   "name": "python",
   "nbconvert_exporter": "python",
   "pygments_lexer": "ipython3",
   "version": "3.11.8"
  }
 },
 "nbformat": 4,
 "nbformat_minor": 5
}
