{
 "cells": [
  {
   "cell_type": "code",
   "execution_count": 6,
   "id": "e38cd3d4-94c4-49c1-b385-4afc6aa3a53b",
   "metadata": {},
   "outputs": [],
   "source": [
    "def foo(*nums):\n",
    "    S=1\n",
    "    for i in nums:\n",
    "        S=S*i\n",
    "    return S"
   ]
  },
  {
   "cell_type": "code",
   "execution_count": 7,
   "id": "f3728464-c1e1-4a76-8fee-2e281af88b2e",
   "metadata": {},
   "outputs": [
    {
     "data": {
      "text/plain": [
       "-48"
      ]
     },
     "execution_count": 7,
     "metadata": {},
     "output_type": "execute_result"
    }
   ],
   "source": [
    "foo(3,2,4,-2)"
   ]
  },
  {
   "cell_type": "code",
   "execution_count": 8,
   "id": "17e99834-f982-4d44-aacd-47cc0beef105",
   "metadata": {},
   "outputs": [
    {
     "data": {
      "text/plain": [
       "tuple"
      ]
     },
     "execution_count": 8,
     "metadata": {},
     "output_type": "execute_result"
    }
   ],
   "source": [
    "q=(2,1,4)\n",
    "type(q)"
   ]
  },
  {
   "cell_type": "code",
   "execution_count": 23,
   "id": "157b086f-554a-4525-8e34-7f5fb93de457",
   "metadata": {},
   "outputs": [],
   "source": [
    "def goo(*nums):\n",
    "    return(prod(list(nums)))"
   ]
  },
  {
   "cell_type": "code",
   "execution_count": 24,
   "id": "b48cb917-1ece-471b-8eb3-3bd0973309ca",
   "metadata": {},
   "outputs": [
    {
     "ename": "NameError",
     "evalue": "name 'prod' is not defined",
     "output_type": "error",
     "traceback": [
      "\u001b[0;31m---------------------------------------------------------------------------\u001b[0m",
      "\u001b[0;31mNameError\u001b[0m                                 Traceback (most recent call last)",
      "Cell \u001b[0;32mIn[24], line 1\u001b[0m\n\u001b[0;32m----> 1\u001b[0m \u001b[43mgoo\u001b[49m\u001b[43m(\u001b[49m\u001b[38;5;241;43m2\u001b[39;49m\u001b[43m,\u001b[49m\u001b[38;5;241;43m4\u001b[39;49m\u001b[43m,\u001b[49m\u001b[38;5;241;43m3\u001b[39;49m\u001b[43m,\u001b[49m\u001b[38;5;241;43m1\u001b[39;49m\u001b[43m)\u001b[49m\n",
      "Cell \u001b[0;32mIn[23], line 2\u001b[0m, in \u001b[0;36mgoo\u001b[0;34m(*nums)\u001b[0m\n\u001b[1;32m      1\u001b[0m \u001b[38;5;28;01mdef\u001b[39;00m \u001b[38;5;21mgoo\u001b[39m(\u001b[38;5;241m*\u001b[39mnums):\n\u001b[0;32m----> 2\u001b[0m     \u001b[38;5;28;01mreturn\u001b[39;00m(\u001b[43mprod\u001b[49m(\u001b[38;5;28mlist\u001b[39m(nums)))\n",
      "\u001b[0;31mNameError\u001b[0m: name 'prod' is not defined"
     ]
    }
   ],
   "source": [
    "goo(2,4,3,1)"
   ]
  },
  {
   "cell_type": "code",
   "execution_count": 17,
   "id": "9c422ae5-6065-45a8-b1a5-32e2e90a956a",
   "metadata": {},
   "outputs": [],
   "source": [
    "### 3rd Question\n",
    "def table(n):\n",
    "    for i in range(0,21):\n",
    "        print(f\"{n}*{i}={n*i}\")"
   ]
  },
  {
   "cell_type": "code",
   "execution_count": 19,
   "id": "3a40d516-49ae-495e-8fa5-e15e8e3e9831",
   "metadata": {},
   "outputs": [
    {
     "name": "stdout",
     "output_type": "stream",
     "text": [
      "9*0=0\n",
      "9*1=9\n",
      "9*2=18\n",
      "9*3=27\n",
      "9*4=36\n",
      "9*5=45\n",
      "9*6=54\n",
      "9*7=63\n",
      "9*8=72\n",
      "9*9=81\n",
      "9*10=90\n",
      "9*11=99\n",
      "9*12=108\n",
      "9*13=117\n",
      "9*14=126\n",
      "9*15=135\n",
      "9*16=144\n",
      "9*17=153\n",
      "9*18=162\n",
      "9*19=171\n",
      "9*20=180\n"
     ]
    }
   ],
   "source": [
    "table(9)"
   ]
  },
  {
   "cell_type": "code",
   "execution_count": 20,
   "id": "9dc63804-d995-4971-ae04-eececcfc81a8",
   "metadata": {},
   "outputs": [],
   "source": [
    "### 2nd Q\n",
    "def howmuch(cakes,ice_creams):\n",
    "    print(f\"there are {cakes} cakes and {ice_creams} ice creams\")\n",
    "\n",
    "howmuch(4,2) # 4,2\n",
    "howmuch(2,4) # 2,4\n",
    "howmuch(ice_creams=4,cakes=2) # 2,4\n",
    "howmuch(cakes=2,ice_creams=4) # 2,4"
   ]
  },
  {
   "cell_type": "code",
   "execution_count": 22,
   "id": "66cdb6ba-41fd-4e23-b19c-71fe217f4fdf",
   "metadata": {},
   "outputs": [
    {
     "name": "stdout",
     "output_type": "stream",
     "text": [
      "there are 2 cakes and 4 ice creams\n"
     ]
    }
   ],
   "source": []
  }
 ],
 "metadata": {
  "kernelspec": {
   "display_name": "Python 3 (ipykernel)",
   "language": "python",
   "name": "python3"
  },
  "language_info": {
   "codemirror_mode": {
    "name": "ipython",
    "version": 3
   },
   "file_extension": ".py",
   "mimetype": "text/x-python",
   "name": "python",
   "nbconvert_exporter": "python",
   "pygments_lexer": "ipython3",
   "version": "3.11.7"
  }
 },
 "nbformat": 4,
 "nbformat_minor": 5
}
