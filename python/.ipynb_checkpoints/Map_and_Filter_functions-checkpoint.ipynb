{
 "cells": [
  {
   "cell_type": "code",
   "execution_count": 33,
   "id": "c9d63605-b315-458d-92cc-854051a88f25",
   "metadata": {},
   "outputs": [],
   "source": [
    "AS = [0,1,2,3,4,5,6,7,8,9]\n"
   ]
  },
  {
   "cell_type": "code",
   "execution_count": 1,
   "id": "c30122be-0581-49af-9ff3-7ed04014ffcd",
   "metadata": {},
   "outputs": [],
   "source": [
    "square = lambda x : x*x"
   ]
  },
  {
   "cell_type": "code",
   "execution_count": 2,
   "id": "e011eafb-3b8a-46ee-bd17-6be5b4ffb050",
   "metadata": {},
   "outputs": [],
   "source": [
    "mylist=(5,2,3,1,4,6)\n"
   ]
  },
  {
   "cell_type": "code",
   "execution_count": 10,
   "id": "1f2498be-8bc9-4396-88b5-fad9f69ac87e",
   "metadata": {},
   "outputs": [],
   "source": [
    "x=list(map(lambda x : x*x,mylist))\n"
   ]
  },
  {
   "cell_type": "code",
   "execution_count": 11,
   "id": "321f494a-cdd7-46e7-837b-f1aa473d107d",
   "metadata": {},
   "outputs": [
    {
     "name": "stdout",
     "output_type": "stream",
     "text": [
      "[1, 4, 9, 16, 25]\n"
     ]
    }
   ],
   "source": [
    "print(x)"
   ]
  },
  {
   "cell_type": "code",
   "execution_count": 28,
   "id": "2905bf67-a8a0-4875-93a3-949ca93a7a20",
   "metadata": {},
   "outputs": [
    {
     "name": "stdout",
     "output_type": "stream",
     "text": [
      "[1, 1, 2, 6, 24, 120, 720, 5040, 40320, 362880]\n"
     ]
    }
   ],
   "source": [
    "fact = lambda x : 1 if x==0 else x*fact(x-1)\n",
    "x = list(map(fact, AS))\n",
    "print(x)"
   ]
  },
  {
   "cell_type": "code",
   "execution_count": 39,
   "id": "57f7c422-04cc-4a48-baca-00859e3f5fe6",
   "metadata": {},
   "outputs": [
    {
     "name": "stdout",
     "output_type": "stream",
     "text": [
      "[1, 2, 3, 4, 5]\n",
      "[1, 4, 9, 16, 25]\n",
      "[1, 2, 3, 4, 5]\n"
     ]
    }
   ],
   "source": [
    "arr = [1,2,3,4,5]\n",
    "W = list(map(lambda x : x*x, arr))\n",
    "X = list(filter(lambda x : x*x, arr))\n",
    "print(arr)\n",
    "print(W)\n",
    "print(X)"
   ]
  },
  {
   "cell_type": "code",
   "execution_count": 24,
   "id": "762dd42e-cd10-4f41-b33c-ded36aa9cd58",
   "metadata": {},
   "outputs": [
    {
     "name": "stdout",
     "output_type": "stream",
     "text": [
      "[0, 1, 2, 3, 4, 5, 6, 7, 8, 9]\n"
     ]
    }
   ],
   "source": [
    "print(list(range(0,10)))"
   ]
  },
  {
   "cell_type": "code",
   "execution_count": 51,
   "id": "6ff7d0ba-967e-4210-8370-9eff89677d8e",
   "metadata": {},
   "outputs": [
    {
     "name": "stdout",
     "output_type": "stream",
     "text": [
      "[0, 2, 4, 6, 8]\n",
      "[1, 3, 5, 7, 9]\n"
     ]
    }
   ],
   "source": [
    "sq=[0,1,2,3,4,5,6,7,8,9]\n",
    "even = list(filter(lambda x : not x&1, sq)) # even \n",
    "odd = list(filter(lambda x : x&1, sq)) # odd\n",
    "print(even)\n",
    "print(odd)"
   ]
  },
  {
   "cell_type": "code",
   "execution_count": null,
   "id": "95629598-6c41-46bc-a51a-da69b1bdc639",
   "metadata": {},
   "outputs": [],
   "source": []
  },
  {
   "cell_type": "code",
   "execution_count": null,
   "id": "5db7c1df-ca19-49f2-a62f-5eef7b6f0ebb",
   "metadata": {},
   "outputs": [],
   "source": []
  }
 ],
 "metadata": {
  "kernelspec": {
   "display_name": "Python 3 (ipykernel)",
   "language": "python",
   "name": "python3"
  },
  "language_info": {
   "codemirror_mode": {
    "name": "ipython",
    "version": 3
   },
   "file_extension": ".py",
   "mimetype": "text/x-python",
   "name": "python",
   "nbconvert_exporter": "python",
   "pygments_lexer": "ipython3",
   "version": "3.11.7"
  }
 },
 "nbformat": 4,
 "nbformat_minor": 5
}
