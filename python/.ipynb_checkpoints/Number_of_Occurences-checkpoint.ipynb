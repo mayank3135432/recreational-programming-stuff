{
 "cells": [
  {
   "cell_type": "code",
   "execution_count": 1,
   "id": "0bfeb88d-512f-489a-afee-ecf53549dbcf",
   "metadata": {},
   "outputs": [],
   "source": [
    "# find number of occurences of given element\n",
    "def findnum(A,x):\n",
    "    count=0\n",
    "    for a in A:\n",
    "        if a==x:\n",
    "            count=count+1\n",
    "    return count"
   ]
  },
  {
   "cell_type": "code",
   "execution_count": 2,
   "id": "65536738-428b-4f47-bb40-8a00b9dc703b",
   "metadata": {},
   "outputs": [
    {
     "data": {
      "text/plain": [
       "3"
      ]
     },
     "execution_count": 2,
     "metadata": {},
     "output_type": "execute_result"
    }
   ],
   "source": [
    "aX = [3,1,2,4,5,3,2,4,2,1,1,4]\n",
    "findnum(aX,1)"
   ]
  },
  {
   "cell_type": "code",
   "execution_count": 3,
   "id": "d887e1fa-2a83-475d-a5bd-3c02eb98993e",
   "metadata": {},
   "outputs": [],
   "source": [
    "# find number of occurences of all elementts\n",
    "def findnumall(A):\n",
    "    mydict = {}\n",
    "    for a in A:\n",
    "        mydict[a]=0\n",
    "    for a in A:\n",
    "        mydict[a]=mydict[a]+1\n",
    "    return mydict\n",
    "    "
   ]
  },
  {
   "cell_type": "code",
   "execution_count": 4,
   "id": "0949616b-9986-4ff6-acae-d492b5cc4cf2",
   "metadata": {},
   "outputs": [
    {
     "data": {
      "text/plain": [
       "{3: 2, 1: 3, 2: 3, 4: 3, 5: 1}"
      ]
     },
     "execution_count": 4,
     "metadata": {},
     "output_type": "execute_result"
    }
   ],
   "source": [
    "findnumall(aX)"
   ]
  }
 ],
 "metadata": {
  "kernelspec": {
   "display_name": "Python 3 (ipykernel)",
   "language": "python",
   "name": "python3"
  },
  "language_info": {
   "codemirror_mode": {
    "name": "ipython",
    "version": 3
   },
   "file_extension": ".py",
   "mimetype": "text/x-python",
   "name": "python",
   "nbconvert_exporter": "python",
   "pygments_lexer": "ipython3",
   "version": "3.11.8"
  }
 },
 "nbformat": 4,
 "nbformat_minor": 5
}
