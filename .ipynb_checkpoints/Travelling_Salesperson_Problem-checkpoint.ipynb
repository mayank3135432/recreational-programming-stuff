{
 "cells": [
  {
   "cell_type": "code",
   "execution_count": 1,
   "id": "c43bdeaa-5b8d-4687-9488-05716c515aef",
   "metadata": {},
   "outputs": [
    {
     "data": {
      "text/plain": [
       "' Algorithm to solve the travelling salesperson problem in which we have to basically find the shortest hamiltonian circut\\n'"
      ]
     },
     "execution_count": 1,
     "metadata": {},
     "output_type": "execute_result"
    }
   ],
   "source": [
    "''' Algorithm to solve the travelling salesperson problem in which we have to basically find the shortest hamiltonian circut\n",
    "'''"
   ]
  },
  {
   "cell_type": "code",
   "execution_count": 2,
   "id": "7595a224-aefe-47f7-8fcd-e37a1cae200b",
   "metadata": {},
   "outputs": [],
   "source": [
    "from numpy import array"
   ]
  },
  {
   "cell_type": "code",
   "execution_count": 10,
   "id": "a9b3bbf6-1857-4820-b83a-fb66fc5acfb9",
   "metadata": {},
   "outputs": [],
   "source": [
    "G=array(\n",
    "    [[0,16,11,6],\n",
    "    [8,0,13,16],\n",
    "    [4,7,0,9],\n",
    "    [5,12,2,0]]\n",
    ")\n",
    "V=array(\n",
    "    [[0,20,30,10,11],\n",
    "   [15,0,16,4,2],\n",
    "   [3,5,0,2,4],\n",
    "   [19,6,18,0,3],\n",
    "   [16,4,7,16,0]]\n",
    ")"
   ]
  },
  {
   "cell_type": "code",
   "execution_count": 4,
   "id": "d9b8d3d9-388d-40e9-95b8-7c201c9c5232",
   "metadata": {},
   "outputs": [],
   "source": [
    "shortest_HP = lambda W,i,S,start_vertex : W[i][start_vertex] if len(S)==0 else min({W[i][j]+shortest_HP(W,j,S-{j},start_vertex) for j in S})"
   ]
  },
  {
   "cell_type": "code",
   "execution_count": 5,
   "id": "53b2bcb8-0d28-425c-8ee5-28668cee5293",
   "metadata": {},
   "outputs": [
    {
     "data": {
      "text/plain": [
       "23"
      ]
     },
     "execution_count": 5,
     "metadata": {},
     "output_type": "execute_result"
    }
   ],
   "source": [
    "shortest_HP(G,0,{1,2,3},0)\n"
   ]
  },
  {
   "cell_type": "code",
   "execution_count": 6,
   "id": "c4425293-013b-469c-ac93-12659c1dd744",
   "metadata": {},
   "outputs": [
    {
     "data": {
      "text/plain": [
       "28"
      ]
     },
     "execution_count": 6,
     "metadata": {},
     "output_type": "execute_result"
    }
   ],
   "source": [
    "shortest_HP(V,0,{1,2,3,4},0)"
   ]
  },
  {
   "cell_type": "code",
   "execution_count": 7,
   "id": "34b37b1f-f5e3-49cb-a4fa-8c11b49625de",
   "metadata": {},
   "outputs": [],
   "source": [
    "### CODE FROM GOOGLE's GEMINI ###\n",
    "\n",
    "import random\n",
    "\n",
    "def generate_weight_matrix(n):\n",
    "  \"\"\"\n",
    "  Generates a random weight matrix for a connected weighted graph with n vertices.\n",
    "\n",
    "  Args:\n",
    "      n: Number of vertices in the graph.\n",
    "\n",
    "  Returns:\n",
    "      A square matrix of size n x n representing the weight matrix of the graph.\n",
    "  \"\"\"\n",
    "  weight_matrix = [[0 for _ in range(n)] for _ in range(n)]  # Initialize with zeros\n",
    "\n",
    "  # Ensure all vertices are connected\n",
    "  for i in range(n):\n",
    "    for j in range(i + 1, n):\n",
    "      weight_matrix[i][j] = random.randint(1, 100)  # Random weight between 1 and 100\n",
    "      weight_matrix[j][i] = weight_matrix[i][j]  # Symmetric for undirected graph\n",
    "\n",
    "  # Add some additional random edges to increase connectivity\n",
    "  for _ in range(n * (n - 1) // 2):\n",
    "    i, j = random.sample(range(n), 2)  # Sample two random vertices (avoid self-loops)\n",
    "    if weight_matrix[i][j] == 0:  # Ensure edge doesn't already exist\n",
    "      weight_matrix[i][j] = random.randint(1, 100)\n",
    "      weight_matrix[j][i] = weight_matrix[i][j]\n",
    "\n",
    "  return weight_matrix\n",
    "\n",
    "# Example usage with 1000 vertices\n",
    "n = 1000\n",
    "weight_matrix = generate_weight_matrix(n)\n",
    "\n",
    "# Accessing weight matrix elements (example)\n",
    "\n",
    "weight_matrix = array(weight_matrix)"
   ]
  },
  {
   "cell_type": "code",
   "execution_count": 8,
   "id": "7cd0d1b4-1b72-4d67-a069-3891eca477a8",
   "metadata": {},
   "outputs": [
    {
     "data": {
      "text/plain": [
       "array([[ 0, 43, 73, 18,  5, 85, 51, 20, 70,  4, 45],\n",
       "       [43,  0, 16, 91, 70, 42,  7, 77, 10, 16,  7],\n",
       "       [73, 16,  0, 51, 46, 78, 48, 37, 84, 53, 94],\n",
       "       [18, 91, 51,  0, 25, 43, 84,  5, 81, 25, 57],\n",
       "       [ 5, 70, 46, 25,  0, 63, 31, 27, 67, 54, 30],\n",
       "       [85, 42, 78, 43, 63,  0, 80, 55, 65, 71, 39],\n",
       "       [51,  7, 48, 84, 31, 80,  0, 79, 31, 54, 31],\n",
       "       [20, 77, 37,  5, 27, 55, 79,  0, 80, 80,  6],\n",
       "       [70, 10, 84, 81, 67, 65, 31, 80,  0, 71, 70],\n",
       "       [ 4, 16, 53, 25, 54, 71, 54, 80, 71,  0, 77],\n",
       "       [45,  7, 94, 57, 30, 39, 31,  6, 70, 77,  0]])"
      ]
     },
     "execution_count": 8,
     "metadata": {},
     "output_type": "execute_result"
    }
   ],
   "source": [
    "Q = weight_matrix[0:11,0:11]\n",
    "Q"
   ]
  },
  {
   "cell_type": "code",
   "execution_count": 9,
   "id": "3a48c595-5967-4812-b3b0-52ab0cbc6072",
   "metadata": {},
   "outputs": [
    {
     "data": {
      "text/plain": [
       "247"
      ]
     },
     "execution_count": 9,
     "metadata": {},
     "output_type": "execute_result"
    }
   ],
   "source": [
    "shortest_HP(Q,0,set(range(1,len(Q))),0)"
   ]
  }
 ],
 "metadata": {
  "kernelspec": {
   "display_name": "Python 3 (ipykernel)",
   "language": "python",
   "name": "python3"
  },
  "language_info": {
   "codemirror_mode": {
    "name": "ipython",
    "version": 3
   },
   "file_extension": ".py",
   "mimetype": "text/x-python",
   "name": "python",
   "nbconvert_exporter": "python",
   "pygments_lexer": "ipython3",
   "version": "3.11.8"
  }
 },
 "nbformat": 4,
 "nbformat_minor": 5
}
