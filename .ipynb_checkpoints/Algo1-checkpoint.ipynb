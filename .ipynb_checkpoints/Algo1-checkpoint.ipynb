{
 "cells": [
  {
   "cell_type": "code",
   "execution_count": 4,
   "id": "765294fb-a749-4694-aabc-c1560bd209ee",
   "metadata": {},
   "outputs": [],
   "source": [
    "G=[[0,16,11,6],\n",
    "    [8,0,13,16],\n",
    "    [4,7,0,9],\n",
    "    [5,12,2,0]]"
   ]
  },
  {
   "cell_type": "code",
   "execution_count": 32,
   "id": "56039d49-2051-411c-91a7-212101984f26",
   "metadata": {},
   "outputs": [],
   "source": [
    "def goo(W,i,S):\n",
    "    if len(S)==0:\n",
    "        return(W[i][0])\n",
    "    else:\n",
    "        myset=set([])\n",
    "        for j in S:\n",
    "            x = W[i][j]+goo(W,j,S-{j})\n",
    "            myset.add(x)\n",
    "        return min(myset)"
   ]
  },
  {
   "cell_type": "code",
   "execution_count": 33,
   "id": "46361684-8153-4074-a9db-52d1418a90c8",
   "metadata": {},
   "outputs": [
    {
     "data": {
      "text/plain": [
       "23"
      ]
     },
     "execution_count": 33,
     "metadata": {},
     "output_type": "execute_result"
    }
   ],
   "source": [
    "goo(G,0,{1,2,3})"
   ]
  },
  {
   "cell_type": "code",
   "execution_count": 7,
   "id": "4d6d2c1b-c28d-4ef7-a298-9dd43103aa69",
   "metadata": {},
   "outputs": [
    {
     "ename": "ValueError",
     "evalue": "min() arg is an empty sequence",
     "output_type": "error",
     "traceback": [
      "\u001b[0;31m---------------------------------------------------------------------------\u001b[0m",
      "\u001b[0;31mValueError\u001b[0m                                Traceback (most recent call last)",
      "Cell \u001b[0;32mIn[7], line 1\u001b[0m\n\u001b[0;32m----> 1\u001b[0m \u001b[38;5;28;43mmin\u001b[39;49m\u001b[43m(\u001b[49m\u001b[43m{\u001b[49m\u001b[43m}\u001b[49m\u001b[43m)\u001b[49m\n",
      "\u001b[0;31mValueError\u001b[0m: min() arg is an empty sequence"
     ]
    }
   ],
   "source": [
    "min({})"
   ]
  },
  {
   "cell_type": "code",
   "execution_count": 21,
   "id": "8de6412a-cfaf-479e-b96e-5514762f909b",
   "metadata": {},
   "outputs": [
    {
     "data": {
      "text/plain": [
       "0"
      ]
     },
     "execution_count": 21,
     "metadata": {},
     "output_type": "execute_result"
    }
   ],
   "source": [
    "S={3}\n",
    "S.difference_update({3})\n",
    "len(S)\n"
   ]
  }
 ],
 "metadata": {
  "kernelspec": {
   "display_name": "Python 3 (ipykernel)",
   "language": "python",
   "name": "python3"
  },
  "language_info": {
   "codemirror_mode": {
    "name": "ipython",
    "version": 3
   },
   "file_extension": ".py",
   "mimetype": "text/x-python",
   "name": "python",
   "nbconvert_exporter": "python",
   "pygments_lexer": "ipython3",
   "version": "3.11.8"
  }
 },
 "nbformat": 4,
 "nbformat_minor": 5
}
