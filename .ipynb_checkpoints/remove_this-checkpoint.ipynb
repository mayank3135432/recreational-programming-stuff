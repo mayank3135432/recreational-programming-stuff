{
 "cells": [
  {
   "cell_type": "code",
   "execution_count": null,
   "id": "435d9481-c55f-4e29-b24c-dae987cdb79a",
   "metadata": {},
   "outputs": [],
   "source": [
    "''' Program to solve matrix multiplicaton chain problem using dynamic programming \n",
    "input: the dimensions of the matrices\n",
    "output: number of operations of the least costly multiplication order.\n",
    "'''"
   ]
  },
  {
   "cell_type": "code",
   "execution_count": 1,
   "id": "cd0a2d91-f27c-42e2-9a25-3c746a96a0bf",
   "metadata": {},
   "outputs": [],
   "source": [
    "import numpy as np"
   ]
  },
  {
   "cell_type": "code",
   "execution_count": 35,
   "id": "e856c023-33ec-4e30-a1fc-e9da96cd03e7",
   "metadata": {},
   "outputs": [],
   "source": [
    "def matrix_chain(d):\n",
    "    num = len(d)-1\n",
    "    M = np.array([0]*num**2).reshape(num,num)\n",
    "    i=0;inc=1\n",
    "    while(1):\n",
    "        j=i+inc\n",
    "        M[i,j] = min(tuple((M[i,k]+M[k+1,j]+d[i]*d[k+1]*d[j+1] for k in range(i,j))))\n",
    "        if(j>=num-1):\n",
    "            if i==0:\n",
    "                break\n",
    "            else:\n",
    "                i=0\n",
    "                inc=inc+1\n",
    "        else:\n",
    "            i=i+1\n",
    "    return (M[0][num-1])\n",
    "    "
   ]
  },
  {
   "cell_type": "code",
   "execution_count": 36,
   "id": "060a93ef-edd9-4f81-b5e8-186ed83c05d8",
   "metadata": {},
   "outputs": [
    {
     "data": {
      "text/plain": [
       "2856"
      ]
     },
     "execution_count": 36,
     "metadata": {},
     "output_type": "execute_result"
    }
   ],
   "source": [
    "matrix_chain([13,5,89,3,34])"
   ]
  }
 ],
 "metadata": {
  "kernelspec": {
   "display_name": "Python 3 (ipykernel)",
   "language": "python",
   "name": "python3"
  },
  "language_info": {
   "codemirror_mode": {
    "name": "ipython",
    "version": 3
   },
   "file_extension": ".py",
   "mimetype": "text/x-python",
   "name": "python",
   "nbconvert_exporter": "python",
   "pygments_lexer": "ipython3",
   "version": "3.11.8"
  }
 },
 "nbformat": 4,
 "nbformat_minor": 5
}
